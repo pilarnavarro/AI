{
 "cells": [
  {
   "cell_type": "code",
   "execution_count": 3,
   "metadata": {},
   "outputs": [],
   "source": [
    "import itertools\n",
    "import random\n",
    "\n",
    "from math import factorial\n",
    "from fractions import Fraction\n",
    "\n",
    "def cross(A, B):\n",
    "    \"The set of ways of concatenating one item from collection A with one from B.\"\n",
    "    return {a + b \n",
    "            for a in A for b in B}\n",
    "\n",
    "def combos(items, n):\n",
    "    \"All combinations of n items; each combo as a concatenated str.\"\n",
    "    return {' '.join(combo) \n",
    "            for combo in itertools.combinations(items, n)}\n",
    "            \n",
    "def P(event, space): \n",
    "    \"The probability of an event, given a sample space of equiprobable outcomes.\"\n",
    "    return Fraction(len(event & space), \n",
    "                    len(space))\n",
    "\n",
    "def printProb(event, space):\n",
    "    prob = len(event & space) / len(space)\n",
    "    print(\"P: {:.5f}\".format(prob))\n",
    "\n",
    "def choose(n, c):\n",
    "    \"Number of ways to choose c items from a list of n items.\"\n",
    "    return factorial(n) // (factorial(n - c) * factorial(c))"
   ]
  },
  {
   "cell_type": "markdown",
   "metadata": {},
   "source": [
    "##### Inmaculada Marín Carballo"
   ]
  },
  {
   "cell_type": "markdown",
   "metadata": {},
   "source": [
    "Matrikel-Nr.3086148"
   ]
  },
  {
   "cell_type": "markdown",
   "metadata": {},
   "source": [
    "##### Pilar Navarro Ramírez    "
   ]
  },
  {
   "cell_type": "markdown",
   "metadata": {},
   "source": [
    "Matrikel-Nr.3086150"
   ]
  },
  {
   "cell_type": "markdown",
   "metadata": {},
   "source": [
    "# Hausübung"
   ]
  },
  {
   "cell_type": "markdown",
   "metadata": {},
   "source": [
    "<div class=\"task_description\">\n",
    "    <i class=\"task\">Homework 6.1:</i>\n",
    "        ::: 2 Hausaufgabenpunkte :::</div>\n",
    "     \n",
    "There is a variant of rock-paper-scissors, which has become known through the series Big Bang Theory (see Fig. 2.). In this variant there are 5 symbols: scissors, stone, paper, lizard, spock.\n",
    "Scissors cuts paper, paper covers rock, rock crushes lizard, lizard poisons spock, spock smashes scissors, scissors decapitates lizard, lizard eats paper, paper disproves Spock, spock vaporizes rock and rock crushes scissors."
   ]
  },
  {
   "cell_type": "markdown",
   "metadata": {},
   "source": [
    "<img src=\"img/exercise6/spock.png\" width=\"300\"/>"
   ]
  },
  {
   "cell_type": "markdown",
   "metadata": {},
   "source": [
    "*Task 6.1.1:* Define the sample space and the event space for the original version and the Big Bang Theory version. Write annotated Python code."
   ]
  },
  {
   "cell_type": "code",
   "execution_count": 15,
   "metadata": {
    "scrolled": true
   },
   "outputs": [
    {
     "name": "stdout",
     "output_type": "stream",
     "text": [
      "Sample space for the Big Bang Theory version:  {'Paper Scissors ', 'Spock Scissors ', 'Spock Spock ', 'Scissors Scissors ', 'Paper Paper ', 'Rock Lizard ', 'Scissors Spock ', 'Rock Spock ', 'Rock Scissors ', 'Lizard Rock ', 'Paper Lizard ', 'Paper Spock ', 'Scissors Rock ', 'Scissors Lizard ', 'Spock Paper ', 'Paper Rock ', 'Scissors Paper ', 'Spock Rock ', 'Spock Lizard ', 'Rock Rock ', 'Lizard Paper ', 'Lizard Lizard ', 'Rock Paper ', 'Lizard Spock ', 'Lizard Scissors '}\n",
      "25\n",
      "Sample space for the original version:  {'P S ', 'R P ', 'S R ', 'P P ', 'S P ', 'S S ', 'R R ', 'P R ', 'R S '}\n",
      "Event space for the Big Bang Theory version:  {'Lizard Paper ', 'Spock Scissors ', 'Lizard Spock ', 'Paper Rock ', 'Scissors Paper ', 'Rock Lizard ', 'Spock Rock ', 'Paper Spock ', 'Scissors Lizard ', 'Rock Scissors '}\n",
      "Event space for the original version:  {'S P', 'P R', 'R S'}\n"
     ]
    }
   ],
   "source": [
    "options_BBT={\"Rock \",\"Lizard \",\"Paper \",\"Scissors \",\"Spock \"}\n",
    "options_original={\"R \",\"P \",\"S \"}\n",
    "\n",
    "#Sample space for the Big Bang Theory version\n",
    "sample_BBT=cross(options_BBT,options_BBT)\n",
    "print(\"Sample space for the Big Bang Theory version: \", sample_BBT)\n",
    "#Sample space for the original version\n",
    "sample_original=cross(options_original,options_original)\n",
    "print(\"Sample space for the original version: \", sample_original)\n",
    "\n",
    "#Event space --> all the combinations where the first player wins\n",
    "#Event space for the Big Bang Theory version\n",
    "events_BBT={\"Rock Lizard \",\"Rock Scissors \",\n",
    "    \"Paper Rock \",\"Paper Spock \",\"Scissors Paper \",\n",
    "    \"Scissors Lizard \",\"Spock Scissors \",\"Spock Rock \",\n",
    "    \"Lizard Spock \",\"Lizard Paper \"}\n",
    "print(\"Event space for the Big Bang Theory version: \", events_BBT)\n",
    "#Event space for the original version\n",
    "events_original={\"R S\",\"S P\",\"P R\"}\n",
    "print(\"Event space for the original version: \", events_original)"
   ]
  },
  {
   "cell_type": "markdown",
   "metadata": {},
   "source": [
    "*Task 6.1.2:* Write annotated Python code that calculates the probability of a draw in this variant and in the original version."
   ]
  },
  {
   "cell_type": "code",
   "execution_count": 14,
   "metadata": {},
   "outputs": [
    {
     "name": "stdout",
     "output_type": "stream",
     "text": [
      "Probability of a draw in Big Bang Theory version: \n",
      "1/5\n",
      "P: 0.20000\n",
      "Probability of a draw in original version: \n",
      "1/3\n",
      "P: 0.33333\n"
     ]
    }
   ],
   "source": [
    "#Event space for a draw in the Big Bang Theory version\n",
    "draw_BBT = {s for s in sample_BBT if s == 'Lizard Lizard ' or s== 'Rock Rock ' or s== 'Spock Spock ' or s== 'Paper Paper ' or s== 'Scissors Scissors '}\n",
    "#print(draw_BBT)\n",
    "#Event space for a draw in the original version\n",
    "draw_original = {s for s in sample_original if s == 'R R ' or s== 'P P ' or s== 'S S '}\n",
    "#print(draw_original)\n",
    "\n",
    "print(\"Probability of a draw in Big Bang Theory version: \")\n",
    "print(P(draw_BBT,sample_BBT))\n",
    "printProb(draw_BBT,sample_BBT)\n",
    "\n",
    "print(\"Probability of a draw in original version: \")\n",
    "print(P(draw_original,sample_original))\n",
    "printProb(draw_original,sample_original)"
   ]
  },
  {
   "cell_type": "markdown",
   "metadata": {},
   "source": [
    "<div class=\"task_description\">\n",
    "    <i class=\"task\">Homework 6.2:</i>\n",
    "        ::: 3 Hausaufgabenpunkte :::</div>\n",
    "        \n",
    "*An analysis software recognizes the faces of wanted persons in video footage with a probability of 93%. However, in 1% of cases, the software erroneously marks an unsuspecting person as being wanted. Security authorities expect that 10 wanted people will arrive at the airport on Thursday. The number of passengers per day is 10,000. <br>\n",
    "You can assume that all other people who arrive that day are unsuspicious. Write annotated Python code that calculates the following probabilities:*"
   ]
  },
  {
   "cell_type": "code",
   "execution_count": 4,
   "metadata": {},
   "outputs": [],
   "source": [
    "#probability of being a wanted person\n",
    "p_W=10/10000\n",
    "#probability of being an unsuspecting person\n",
    "p_nW=1-p_W\n",
    "\n",
    "#Probability of being recognized as wanted being a wanted person --> P(R|W)\n",
    "p_r_c_W=0.93\n",
    "#Probability of not being recognized as wanted being a wanted person --> P(notR|W)\n",
    "p_notr_c_W=0.07\n",
    "\n",
    "#Probability of being recognized as wanted being an unsuspecting person --> P(R|nW)\n",
    "p_r_c_nW=0.01\n",
    "#Probability of not being recognized as wanted being an unsuspecting person --> P(notR|nW)\n",
    "p_notr_c_nW=0.99"
   ]
  },
  {
   "cell_type": "markdown",
   "metadata": {},
   "source": [
    "*Task 6.2.1*: Wie viele Personen wird die Software wahrscheinlich fälschlicherweise als “gesucht” markieren?  <br>\n",
    "*How many people will likely be mistaken as \"wanted\" by the software?*"
   ]
  },
  {
   "cell_type": "code",
   "execution_count": 45,
   "metadata": {},
   "outputs": [
    {
     "name": "stdout",
     "output_type": "stream",
     "text": [
      "Probability of being mistaken: \n",
      "0.00999\n",
      "Number of people mistaken out of 10000:\n",
      "99.9\n"
     ]
    }
   ],
   "source": [
    "#P(A,B)=P(A)*P(B|A)\n",
    "#Probability of being mistaken --> P(nW,R) \n",
    "#P(nW,R) = P(nW) * P(R|nW)\n",
    "\n",
    "P_m=p_nW*p_r_c_nW\n",
    "print(\"Probability of being mistaken: \")\n",
    "print(P_m)\n",
    "\n",
    "print(\"Number of people mistaken out of 10000:\")\n",
    "print(P_m*10000)"
   ]
  },
  {
   "cell_type": "markdown",
   "metadata": {},
   "source": [
    "*Task 6.2.2*: Die Software schlägt Alarm. Wie groß ist die Wahrscheinlichkeit dafür, dass tatsächlich eine gesuchte Person entdeckt wurde? <br>\n",
    "*The software raises an alarm. What is the probability that a wanted person was actually discovered?*"
   ]
  },
  {
   "cell_type": "code",
   "execution_count": 47,
   "metadata": {},
   "outputs": [
    {
     "name": "stdout",
     "output_type": "stream",
     "text": [
      "Probability that a wanted person was actually discovered: \n",
      "0.08516483516483517\n"
     ]
    }
   ],
   "source": [
    "#P(A|B)=(P(A)*P(B|A))/P(B)\n",
    "#Probability that a wanted person was actually discovered --> P(W|R)\n",
    "#P(W|R)=(P(W)*P(R|W))/P(R)\n",
    "\n",
    "p_r=p_W * p_r_c_W + p_nW * p_r_c_nW\n",
    "p_W_c_r=(p_W * p_r_c_W)/p_r\n",
    "\n",
    "print(\"Probability that a wanted person was actually discovered: \")\n",
    "print(p_W_c_r)"
   ]
  },
  {
   "cell_type": "markdown",
   "metadata": {},
   "source": [
    "<div class=\"task_description\">\n",
    "    <i class=\"task\">Homework 6.3:</i>\n",
    "        ::: 5 Hausaufgabenpunkte :::</div>\n",
    "        \n",
    "Anna zieht 3 Karten von einem gemischten Skatspiel (7 bis Ass, 4 Farben: Herz, Karo, Kreuz, Pik, 32 Karten). Schreiben Sie kommentierten Python-Code, der die folgenden Wahrscheinlichkeiten berechnet: <br>\n",
    "*Anna draws 3 cards from a mixed skat game (7 to ace, 4 colors: hearts, diamonds, clubs, spades, 32 cards). Write annotated Python code that calculates the following probabilities:*"
   ]
  },
  {
   "cell_type": "code",
   "execution_count": 15,
   "metadata": {},
   "outputs": [
    {
     "name": "stdout",
     "output_type": "stream",
     "text": [
      "{'Club ace', 'Diamond king', 'Diamond 9', 'Heart 7', 'Spade 8', 'Heart ace', 'Heart 10', 'Diamond 7', 'Heart 8', 'Club 9', 'Diamond 8', 'Diamond 10', 'Spade king', 'Spade 9', 'Heart joker', 'Diamond queen', 'Spade ace', 'Club joker', 'Club king', 'Spade joker', 'Heart king', 'Diamond ace', 'Spade 7', 'Spade queen', 'Club 8', 'Club 7', 'Heart queen', 'Club queen', 'Heart 9', 'Club 10', 'Spade 10', 'Diamond joker'}\n",
      "Cards in the deck:  32\n",
      "Sample space size:  4960\n",
      "Diamond 7 Diamond queen Heart king\n",
      "Diamond 10 Club 7 Heart 9\n",
      "Club ace Diamond king Club 10\n",
      "Diamond 8 Diamond queen Heart 9\n",
      "Heart ace Spade 9 Club 8\n"
     ]
    }
   ],
   "source": [
    "#First we define the sample space\n",
    "cards={\"7\",\"8\",\"9\",\"10\",\"queen\",\"king\",\"ace\",\"joker\"}\n",
    "colors={\"Heart \",\"Diamond \",\"Club \",\"Spade \"}\n",
    "deck=cross(colors,cards)\n",
    "print(deck)\n",
    "print(\"Cards in the deck: \",len(deck))\n",
    "\n",
    "sample=combos(deck,3)\n",
    "print(\"Sample space size: \",len(sample))\n",
    "#Some random examples of basic outcomes of the sample space\n",
    "print(*random.sample(sample,5),sep=\"\\n\")"
   ]
  },
  {
   "cell_type": "markdown",
   "metadata": {},
   "source": [
    "*Task 6.3.1*: Mit welcher Wahrscheinlichkeit hat Anna drei Karten mit gleicher Farbe (z.B. Herz 7/Herz Bube/Herz As)? <br>\n",
    "*What is the probability that Anna has three cards of the same color (for example, Heart 7 / Heart Jack / Heart As)?*"
   ]
  },
  {
   "cell_type": "code",
   "execution_count": 26,
   "metadata": {},
   "outputs": [
    {
     "name": "stdout",
     "output_type": "stream",
     "text": [
      "Spade 8 Spade ace Spade queen\n",
      "Club 9 Club joker Club 8\n",
      "Heart 8 Heart joker Heart king\n",
      "Club king Club 8 Club 10\n",
      "Spade joker Spade 7 Spade 10\n",
      "Probability of having three cards of the same color:\n",
      "7/155\n",
      "P: 0.04516\n"
     ]
    }
   ],
   "source": [
    "#Event space\n",
    "sameColor={c for c in sample if c.count(\"Heart\")== 3 or c.count(\"Diamond\")== 3 or c.count(\"Club\")== 3 or c.count(\"Spade\")== 3 }\n",
    "print(*random.sample(sameColor,5),sep=\"\\n\")\n",
    "\n",
    "#Probability\n",
    "print(\"Probability of having three cards of the same color:\")\n",
    "print(P(sameColor,sample))\n",
    "printProb(sameColor,sample)"
   ]
  },
  {
   "cell_type": "markdown",
   "metadata": {},
   "source": [
    "Task 6.3.2:  Mit welcher Wahrscheinlichkeit hat Anna drei Karten mit dem gleichen Wert? <br>\n",
    "*What is the probability that Anna has three cards of equal value (for example, Heart Jack / Pik Jack / Cross Jack)?*"
   ]
  },
  {
   "cell_type": "code",
   "execution_count": 33,
   "metadata": {},
   "outputs": [
    {
     "name": "stdout",
     "output_type": "stream",
     "text": [
      "Heart 10 Diamond 10 Club 10\n",
      "Heart joker Club joker Spade joker\n",
      "Heart 7 Diamond 7 Club 7\n",
      "Diamond king Spade king Heart king\n",
      "Diamond 9 Spade 9 Heart 9\n",
      "Probability of having three cards of the same value:\n",
      "1/155\n",
      "P: 0.00645\n"
     ]
    }
   ],
   "source": [
    "#Event space\n",
    "sameValue={c for c in sample if c.count(\"7\")== 3 or c.count(\"8\")== 3 or c.count(\"9\")== 3 or c.count(\"10\")== 3 or c.count(\"ace\")== 3 or c.count(\"king\")== 3 or c.count(\"queen\")== 3 or c.count(\"joker\")== 3 }\n",
    "print(*random.sample(sameValue,5),sep=\"\\n\")\n",
    "\n",
    "#Probability\n",
    "print(\"Probability of having three cards of the same value:\")\n",
    "print(P(sameValue,sample))\n",
    "printProb(sameValue,sample)"
   ]
  }
 ],
 "metadata": {
  "kernelspec": {
   "display_name": "Python 3",
   "language": "python",
   "name": "python3"
  },
  "language_info": {
   "codemirror_mode": {
    "name": "ipython",
    "version": 3
   },
   "file_extension": ".py",
   "mimetype": "text/x-python",
   "name": "python",
   "nbconvert_exporter": "python",
   "pygments_lexer": "ipython3",
   "version": "3.5.2"
  }
 },
 "nbformat": 4,
 "nbformat_minor": 2
}

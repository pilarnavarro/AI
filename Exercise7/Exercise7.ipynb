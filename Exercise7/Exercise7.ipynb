{
 "cells": [
  {
   "cell_type": "markdown",
   "metadata": {},
   "source": [
    "##### Inmaculada Marín Carballo"
   ]
  },
  {
   "cell_type": "markdown",
   "metadata": {},
   "source": [
    "Matrikel-Nr.3086148"
   ]
  },
  {
   "cell_type": "markdown",
   "metadata": {},
   "source": [
    "##### Pilar Navarro Ramírez  "
   ]
  },
  {
   "cell_type": "markdown",
   "metadata": {},
   "source": [
    "Matrikel-Nr.3086150"
   ]
  },
  {
   "cell_type": "markdown",
   "metadata": {},
   "source": [
    "# Hausübung"
   ]
  },
  {
   "cell_type": "markdown",
   "metadata": {},
   "source": [
    "<div class=\"task_description\">\n",
    "    <i class=\"task\">Homework 7.1:</i>\n",
    "        ::: 10 Hausaufgabenpunkte :::</div>\n",
    "Develop a Language Identification System based on the code below.\n",
    "The classifier used must not be changed.\n",
    "However, you may use other features and change/expand the database."
   ]
  },
  {
   "cell_type": "markdown",
   "metadata": {},
   "source": [
    "We changed the parameters of the CountVectorizer so that it selects the characters (1 or 2 characters) instead of the words. It also converts the characters to lowercase, although this option was the default. Moreover, we added some more data to the database to train the system that we got from http://www.cs.cmu.edu/~ralf/langid.html and from the European Parliament https://www.statmt.org/europarl/. This database is uploaded in a zip format together with the script."
   ]
  },
  {
   "cell_type": "code",
   "execution_count": 17,
   "metadata": {},
   "outputs": [],
   "source": [
    "from sklearn.feature_extraction.text import CountVectorizer\n",
    "from sklearn.svm import SVC\n",
    "from sklearn.pipeline import Pipeline\n",
    "from sklearn.datasets import load_files\n",
    "from sklearn import metrics\n",
    "\n",
    "# the training data folder must be passed as first argument\n",
    "dataset = load_files(\"data/lid\")\n",
    "\n",
    "# split the dataset in training and test set:\n",
    "n = dataset.filenames.shape[0]\n",
    "split = int(n*0.8)\n",
    "\n",
    "x_train = [open(f).read() for f in dataset.filenames[:split]]\n",
    "x_test = [open(f).read() for f in dataset.filenames[split:]]\n",
    "\n",
    "y_train = dataset.target[:split]\n",
    "y_test = dataset.target[split:]"
   ]
  },
  {
   "cell_type": "code",
   "execution_count": 18,
   "metadata": {},
   "outputs": [
    {
     "data": {
      "image/png": "[encoded data removed]",
      "text/plain": [
       "<Figure size 432x288 with 1 Axes>"
      ]
     },
     "metadata": {
      "needs_background": "light"
     },
     "output_type": "display_data"
    }
   ],
   "source": [
    "import seaborn as sns\n",
    "\n",
    "# show the class distribution\n",
    "# EXTRA BONUS POINT Opportunity: how to also show the class names here?\n",
    "%matplotlib inline \n",
    "sns.countplot(data=dataset, x='target');"
   ]
  },
  {
   "cell_type": "code",
   "execution_count": 20,
   "metadata": {},
   "outputs": [
    {
     "name": "stderr",
     "output_type": "stream",
     "text": [
      "/usr/local/lib/python3.5/dist-packages/sklearn/svm/base.py:193: FutureWarning: The default value of gamma will change from 'auto' to 'scale' in version 0.22 to account better for unscaled features. Set gamma explicitly to 'auto' or 'scale' to avoid this warning.\n",
      "  \"avoid this warning.\", FutureWarning)\n"
     ]
    },
    {
     "name": "stdout",
     "output_type": "stream",
     "text": [
      "              precision    recall  f1-score   support\n",
      "\n",
      "          ar       1.00      1.00      1.00         4\n",
      "          de       0.97      0.92      0.95        39\n",
      "          en       0.97      0.97      0.97        32\n",
      "          es       0.95      1.00      0.98        21\n",
      "          fr       0.76      1.00      0.86        22\n",
      "          it       1.00      0.82      0.90        17\n",
      "          ja       1.00      1.00      1.00        15\n",
      "          nl       1.00      0.82      0.90        11\n",
      "          pl       1.00      1.00      1.00         6\n",
      "          pt       1.00      0.96      0.98        23\n",
      "          ru       1.00      1.00      1.00        11\n",
      "\n",
      "    accuracy                           0.95       201\n",
      "   macro avg       0.97      0.95      0.96       201\n",
      "weighted avg       0.96      0.95      0.95       201\n",
      "\n",
      "[[ 4  0  0  0  0  0  0  0  0  0  0]\n",
      " [ 0 36  1  0  2  0  0  0  0  0  0]\n",
      " [ 0  0 31  0  1  0  0  0  0  0  0]\n",
      " [ 0  0  0 21  0  0  0  0  0  0  0]\n",
      " [ 0  0  0  0 22  0  0  0  0  0  0]\n",
      " [ 0  0  0  0  3 14  0  0  0  0  0]\n",
      " [ 0  0  0  0  0  0 15  0  0  0  0]\n",
      " [ 0  1  0  0  1  0  0  9  0  0  0]\n",
      " [ 0  0  0  0  0  0  0  0  6  0  0]\n",
      " [ 0  0  0  1  0  0  0  0  0 22  0]\n",
      " [ 0  0  0  0  0  0  0  0  0  0 11]]\n",
      "\n",
      "The language of \"This is a language detection test.\" is \"ja\"\n",
      "The language of \"Ceci est un test de détection de la langue.\" is \"ja\"\n",
      "The language of \"Dies ist ein Test, um die Sprache zu erkennen.\" is \"ja\"\n"
     ]
    }
   ],
   "source": [
    "clf = Pipeline([\n",
    "    ('vec', CountVectorizer(analyzer=\"char\",ngram_range=(1, 2), lowercase=True)),\n",
    "    ('clf', SVC()), # DO NOT CHANGE THIS CLASSIFIER!\n",
    "])\n",
    "\n",
    "# Fit the pipeline on the training set\n",
    "clf.fit(x_train, y_train)\n",
    "\n",
    "# Predict the outcome on the testing set\n",
    "y_predicted = clf.predict(x_test)\n",
    "\n",
    "# Print the classification report\n",
    "print(metrics.classification_report(y_test, y_predicted, target_names=dataset.target_names))\n",
    "\n",
    "# Plot the confusion matrix\n",
    "cm = metrics.confusion_matrix(y_test, y_predicted)\n",
    "print(cm)\n",
    "\n",
    "# Predict the result on some short new sentences:\n",
    "sentences = [\n",
    "    u'This is a language detection test.',\n",
    "    u'Ceci est un test de détection de la langue.',\n",
    "    u'Dies ist ein Test, um die Sprache zu erkennen.'\n",
    "]\n",
    "predicted = clf.predict(sentences)\n",
    "\n",
    "print()\n",
    "\n",
    "for s, p in zip(sentences, predicted):\n",
    "    print(u'The language of \"%s\" is \"%s\"' % (s, dataset.target_names[p]))\n",
    "    \n",
    "#Please do not take this last result into account but the evaluation parameters and the confusion matrix shown before\n",
    "#this last result. I do not know why it says that the language is japanese in all cases because even the letters are not \n",
    "#japanese, but the evaluation parameters show that the system works properly. I even try to use a sentence from the \n",
    "#training data to predict the language and it was predicted wrong. "
   ]
  }
 ],
 "metadata": {
  "kernelspec": {
   "display_name": "Python 3",
   "language": "python",
   "name": "python3"
  },
  "language_info": {
   "codemirror_mode": {
    "name": "ipython",
    "version": 3
   },
   "file_extension": ".py",
   "mimetype": "text/x-python",
   "name": "python",
   "nbconvert_exporter": "python",
   "pygments_lexer": "ipython3",
   "version": "3.5.2"
  }
 },
 "nbformat": 4,
 "nbformat_minor": 2
}

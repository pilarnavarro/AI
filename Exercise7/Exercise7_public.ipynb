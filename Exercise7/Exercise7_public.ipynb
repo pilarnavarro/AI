{
 "cells": [
  {
   "cell_type": "code",
   "execution_count": 1,
   "metadata": {},
   "outputs": [
    {
     "data": {
      "text/html": [
       "<style>/* Style des gesamten Dokuments */\n",
       "#notebook-container {\n",
       "\tfont-family: \"NimbusMonL-ReguObli\";\n",
       "\tfont-size: 120%\n",
       "}\n",
       "\n",
       "/* Style für die Überschrift: Zentriert diese und stellt sie fett dar. */\n",
       ".headline {\n",
       "\ttext-align: center;\n",
       "\tfont-weight: bold;\n",
       "\tfont-size: 185.7%\n",
       "}\n",
       "\n",
       "/* Style für die Aufgabenbeschreibung. Z.B.: \"Übung zum Thema...\" */\n",
       ".description {\n",
       "\ttext-align: center;\n",
       "\tfont-size: 145.7%\n",
       "}\n",
       "\n",
       "/* Hebt das Abgabedatum fett und kursiv hervor */\n",
       "#submission {\n",
       "\tfont-weight: bold;\n",
       "}\n",
       "\n",
       "/* Style für das eigentliche Thema. Z.B.: \"Intelligenz\" */\n",
       "#topic {\n",
       "\tfont-style: italic;\n",
       "}\n",
       "\n",
       ".task_description {\n",
       "\n",
       "}\n",
       "\n",
       "/* Hebt die Aufgabennummerierung fett hervor. */\n",
       ".task {\n",
       "\tfont-style: normal;\n",
       "\tfont-weight: bold;\n",
       "}\n",
       "\n",
       ".points {\n",
       "\tfont-style: italic;\n",
       "}\n",
       "\n",
       "ol.lower_roman {\n",
       "    list-style-type: lower-roman;\n",
       "}\n",
       "\n",
       "ol.characters {\n",
       "    list-style-type: lower-alpha;\n",
       "}\n",
       "\n",
       "/* Style einer Code-Cell */\n",
       ".CodeMirror-code {\n",
       "\tbackground-color: #ededed\n",
       "}\n",
       "\n",
       "/* Style eines Kommentars im Code ändern. */\n",
       ".cm-s-ipython span.cm-comment {\n",
       "\n",
       "}\n",
       "\n",
       ".cm-s-ipython span.cm-atom {\n",
       "\n",
       "}\n",
       "\n",
       ".cm-s-ipython span.cm-number {\n",
       "\n",
       "}\n",
       "\n",
       "/* Style eines Python-Keywords ändern */\n",
       ".cm-s-ipython span.cm-keyword {\n",
       "\tcolor: #B000B0\n",
       "}\n",
       "\n",
       ".cm-s-ipython span.cm-def {\n",
       "\n",
       "}\n",
       "\n",
       "/* Style einer Python-Variable ändern */\n",
       ".cm-s-ipython span.cm-variable {\n",
       "\t\n",
       "}\n",
       "\n",
       "/* Style einer Property ändern */\n",
       ".cm-s-ipython span.cm-property {\n",
       "\t\n",
       "}\n",
       "\n",
       "/* Style eines Python-Operators ändern */\n",
       ".cm-s-ipython span.cm-operator {\n",
       "\t\n",
       "}\n",
       "\n",
       "/* Style eines Python-Strings ändern */\n",
       ".cm-s-ipython span.cm-string {\n",
       "\tcolor: brown;\n",
       "}\n",
       "\n",
       "/* Style einer eingebauten Funktion ändern (z.B. \"open\") */\n",
       ".cm-s-ipython span.cm-builtin {\n",
       "\t\n",
       "}\n",
       "\n",
       "/* Hebt hervor, welche Klammern zueinander passen */\n",
       ".cm-s-ipython .CodeMirror-matchingbracket {\n",
       "\t\n",
       "}\n",
       "\n",
       ".cm-s-ipython span.cm-variable-2 {\n",
       "\n",
       "}\n",
       "</style>"
      ],
      "text/plain": [
       "<IPython.core.display.HTML object>"
      ]
     },
     "execution_count": 1,
     "metadata": {},
     "output_type": "execute_result"
    }
   ],
   "source": [
    "from IPython.core.display import HTML\n",
    "\n",
    "HTML(\"<style>\" + open(\"style.css\").read() + \"</style>\")"
   ]
  },
  {
   "cell_type": "markdown",
   "metadata": {},
   "source": [
    "<div class=\"headline\">\n",
    "Grundlagen künstlicher Intelligenz\n",
    "<br><br>\n",
    "Sommersemester 2019\n",
    "</div>\n",
    "<br>\n",
    "<div class=\"description\">\n",
    "    Übung zum Thema <i id=\"topic\">\"Features & Evaluation\"</i>\n",
    "    <br><br>\n",
    "    Deadline Abgabe: <i #id=\"submission\">Freitag, 28.6.2019 (23:55 Uhr)</i>\n",
    "</div>"
   ]
  },
  {
   "cell_type": "markdown",
   "metadata": {},
   "source": [
    "# Präsenzübung\n",
    "\n"
   ]
  },
  {
   "cell_type": "markdown",
   "metadata": {},
   "source": [
    "## Feature Engineering"
   ]
  },
  {
   "cell_type": "markdown",
   "metadata": {},
   "source": [
    "<div class=\"task_description\">\n",
    "    <i class=\"task\">Task 7.1:</i> <br>\n",
    "</div>\n",
    "\n",
    "Die SCHUFA berechnet für jede Person die Wahrscheinlichkeit, dass diese Person Ihren Zahlungsverpflichtungen künftig nachkommt. Was glauben Sie, welche Features werden dafür verwendet. Erstellen Sie eine Liste mit möglichen Features. Beschreiben Sie dabei, wie das Feature erhoben/gemessen wird und benennen Sie den Typ der Werte (binär, nominal, ordinal, numerisch)."
   ]
  },
  {
   "cell_type": "markdown",
   "metadata": {},
   "source": [
    "*The SCHUFA calculates for each person the probability that this person will meet your payment obligations in the future. Which features do you think will be used for this? Create a list of possible features. Describe how the feature is collected/measured and name the type of values (binary, nominal, ordinal, numeric).*"
   ]
  },
  {
   "cell_type": "markdown",
   "metadata": {},
   "source": [
    "<div class=\"task_description\">\n",
    "    <i class=\"task\">Task 7.2:</i> <br>\n",
    "</div>\n",
    "\n",
    "Sie werden von einem Unternehmen beauftragt ein System zur automatischen Klassifikation von Computerspielen in Alterskategorien zu entwerfen.\n",
    "Die Liste der Kategorien ist ‘0’, ‘6’, ‘12’ und ‘18’.\n",
    "Dies entspricht jeweils dem Mindestalter um das Spiel spielen zu dürfen.\n",
    "Zu jedem Spiel gibt es folgende Meta-Informationen, die für die Klassifikation benutzt werden können:<br>\n",
    "*You are commissioned by a company to design a system for the automatic classification of computer games into age categories.\n",
    "The list of categories is '0', '6', '12' and '18'.\n",
    "This is the minimum age to play the game.\n",
    "For each game there is the following meta information, which can be used for classification:*\n",
    "* der Name des Spiels (*the name of the game,*),\n",
    "* der Name der Entwicklerfirma (*the name of the developer company,*),\n",
    "* einen Text, welcher den Inhalt des Spieles beschreibt (*a text describing the content of the game*)."
   ]
  },
  {
   "cell_type": "markdown",
   "metadata": {},
   "source": [
    "a) Definieren Sie vier Features, welche Sie für die Klassifikation benutzen können. Erklären Sie warum diese hilfreich sein könnten.<br>\n",
    "*Define four features that you can use for classification. Explain why they might be helpful*"
   ]
  },
  {
   "cell_type": "markdown",
   "metadata": {},
   "source": [
    "b) Wie würden Sie die Daten unterteilen, wenn Sie den bestmöglichen Klassifikator trainieren wollen, aber gleichzeitig prüfen möchten, ob dieser auch wirklich der beste ist? Begründen Sie Ihre Aufteilung. <br>\n",
    "*How would you divide the data if you wanted to train the best possible classifier, but at the same time want to check if it is really the best one? Justify your division.*"
   ]
  },
  {
   "cell_type": "markdown",
   "metadata": {},
   "source": [
    "c) Zusätzlich zu den bereits vorliegenden Meta-Daten erhalten Sie die Möglichkeit beliebige weitere Informationen über das Spiel anzufordern, die üblicherweise bekannt sind (mit Ausnahme der Alterseinstufung selbst). Nennen Sie drei zusätzliche Features, welche vermutlich die Klassifikationsgenauigkeit erhöhen werden. Erklären Sie kurz warum Sie denken, dass diese Features hilfreich sein werden.<br>\n",
    "*In addition to the existing metadata, you will be given the opportunity to request any other information about the Game that is commonly known (other than the age rating itself). Name three additional features that are likely to increase classification accuracy. Explain briefly why you think these features will be helpful.*"
   ]
  },
  {
   "cell_type": "markdown",
   "metadata": {},
   "source": [
    "## Linear Regression"
   ]
  },
  {
   "cell_type": "markdown",
   "metadata": {},
   "source": [
    "<div class=\"task_description\">\n",
    "    <i class=\"task\">Task 7.4:</i> <br>\n",
    "</div>\n",
    "\n",
    "Untenstehend finden Sie Python-Code, der Daten einliest und dann einen Linear Regression Classifier anwendet. \n",
    "*Below you will find Python code that reads data and then applies a Linear Regression Classifier.*"
   ]
  },
  {
   "cell_type": "markdown",
   "metadata": {},
   "source": [
    "a) Schauen Sie sich zunächst mal den Code an und analysieren Sie was passiert. <br>\n",
    "*First take a look at the code and analyze what happens.*"
   ]
  },
  {
   "cell_type": "code",
   "execution_count": 2,
   "metadata": {},
   "outputs": [
    {
     "data": {
      "image/png": "[encoded data removed]",
      "text/plain": [
       "<Figure size 432x288 with 1 Axes>"
      ]
     },
     "metadata": {
      "needs_background": "light"
     },
     "output_type": "display_data"
    }
   ],
   "source": [
    "import numpy as np\n",
    "import matplotlib.pyplot as plt\n",
    "from sklearn.linear_model import LinearRegression\n",
    "\n",
    "# Format [°C, Consumption]\n",
    "train = [\n",
    "    [41,0.386],\n",
    "    [56,0.374],\n",
    "    [63,0.393],\n",
    "    [68,0.425],\n",
    "    [69,0.406],\n",
    "    [65,0.344],\n",
    "    [61,0.327],\n",
    "    [47,0.288],\n",
    "    [32,0.269],\n",
    "    [24,0.256],\n",
    "    [28,0.286],\n",
    "    [26,0.298],\n",
    "    [32,0.329],\n",
    "    [40,0.318],\n",
    "    [55,0.381],\n",
    "    [63,0.381],\n",
    "    [72,0.470],\n",
    "    [72,0.443],\n",
    "    [67,0.386],\n",
    "    [60,0.342]]\n",
    "\n",
    "test = [\n",
    "    [44,0.319],\n",
    "    [40,0.307],\n",
    "    [32,0.284],\n",
    "    [27,0.326],\n",
    "    [28,0.309],\n",
    "    [33,0.359],\n",
    "    [41,0.376],\n",
    "    [52,0.416],\n",
    "    [64,0.437],\n",
    "    [71,0.548]]\n",
    "\n",
    "#Read train\n",
    "trainX, trainY = zip(*train)\n",
    "trainX = np.array(trainX).reshape(-1,1)\n",
    "\n",
    "#Read test\n",
    "testX, testY = zip(*test)\n",
    "testX = np.array(testX).reshape(-1,1)\n",
    "\n",
    "\n",
    "regr = LinearRegression().fit(trainX, trainY)\n",
    "\n",
    "testY_pred = regr.predict(testX)\n",
    "\n",
    "# Plot outputs\n",
    "plt.scatter(trainX, trainY,  color='black')\n",
    "plt.scatter(testX, testY,  color='red')\n",
    "plt.plot(testX, testY_pred, color='blue', linewidth=3)\n",
    "\n",
    "\n",
    "plt.yticks(np.arange(min(testY), max(testY), 0.05))\n",
    "plt.xticks(np.arange(min(testX), max(testX), 7))\n",
    "\n",
    "plt.show()"
   ]
  },
  {
   "cell_type": "markdown",
   "metadata": {},
   "source": [
    "b) Versuchen Sie das Format der Trainingsdaten zu verstehen: welche Information wird hier codiert? <br>\n",
    "*Try to understand the format of the training data: what information is coded here?*"
   ]
  },
  {
   "cell_type": "markdown",
   "metadata": {},
   "source": [
    "c) Lassen Sie den Classifier laufen und schauen Sie sich das Ergebnis an. Wie lautet die Regressionsgleichung?\n",
    "Welche Werte wurden für die Variablen w (Gewicht) und b (Bias) gelernt? <br>\n",
    "*Run the classifier and take a look at the result. What is the regression equation?\n",
    "What values were learned for the variables w (weight) and b (bias)?*"
   ]
  },
  {
   "cell_type": "code",
   "execution_count": 5,
   "metadata": {},
   "outputs": [
    {
     "name": "stdout",
     "output_type": "stream",
     "text": [
      "Consumption = w * Temperature + b\n",
      "Consumption = 0.0029295142080178905 * Temperature + 0.2026187854726688\n"
     ]
    }
   ],
   "source": [
    "print(\"Consumption = w * Temperature + b\")\n",
    "print(\"Consumption =\",regr.coef_[0], \"* Temperature +\", regr.intercept_)"
   ]
  },
  {
   "cell_type": "markdown",
   "metadata": {},
   "source": [
    "d) Am Samstag wird eine Temperatur von 71 Grad Fahrenheit erwartet. Was sagt unser Modell voraus? Wie viel\n",
    "Eiscreme wird am Samstag verkauft werden? <br>\n",
    "*On Saturday a temperature of 71 degrees Fahrenheit is expected. What does our model predict? How much\n",
    "Ice cream will be sold on Saturday?*"
   ]
  },
  {
   "cell_type": "code",
   "execution_count": 4,
   "metadata": {},
   "outputs": [
    {
     "name": "stdout",
     "output_type": "stream",
     "text": [
      "0.410614294241939\n",
      "[0.41061429]\n"
     ]
    }
   ],
   "source": [
    "#manuell\n",
    "print(regr.coef_[0] * 71 + regr.intercept_)\n",
    "\n",
    "#automatisch\n",
    "print(regr.predict(np.array([[71]])))\n"
   ]
  },
  {
   "cell_type": "markdown",
   "metadata": {},
   "source": [
    "e) Checken Sie nun in den Testdaten, wie viel Eiscreme an einem Tag mit 71 Grad\n",
    "Fahrenheit tatsächlich konsumiert wurde. Hat unser Modell den Konsum unter- oder überschätzt? <br>\n",
    "*Now check the test data to see how much ice cream is needed on a day with 71 degrees Celsius.\n",
    "Fahrenheit was actually consumed. Did our model underestimate or overestimate consumption?*"
   ]
  },
  {
   "cell_type": "markdown",
   "metadata": {},
   "source": [
    "## Information Gain"
   ]
  },
  {
   "cell_type": "markdown",
   "metadata": {},
   "source": [
    "<div class=\"task_description\">\n",
    "    <i class=\"task\">Task 7.5:</i> <br>\n",
    "</div>\n",
    "\n",
    "Sie verfügen über die folgenden (fiktiven) Patientendaten und die dazugehörigen Diagnosen.\n",
    "*You have the following (fictitious) patient data and the corresponding diagnoses.*"
   ]
  },
  {
   "cell_type": "markdown",
   "metadata": {},
   "source": [
    "| Patient | Fieber | Übergeben | Durchfall | Zittern | Diagnose                  |\n",
    "|---------|--------|-----------|-----------|---------|---------------------------|\n",
    "| 1       | nein   | nein      | nein      | nein    | gesund (g)                |\n",
    "| 2       | leicht | nein      | nein      | nein    | Grippe (G)                |\n",
    "| 3       | hoch   | nein      | nein      | ja      | Grippe (G)                |\n",
    "| 4       | hoch   | ja        | ja        | nein    | Salmonellenvergiftung (S) |\n",
    "| 5       | leicht | nein      | ja        | nein    | Salmonellenvergiftung (S) |\n",
    "| 6       | nein   | ja        | ja        | nein    | Darmentzündung (D)        |\n",
    "| 7       | leicht | ja        | ja        | nein    | Darmentzündung (D)        |"
   ]
  },
  {
   "cell_type": "markdown",
   "metadata": {},
   "source": [
    "Nach welchem Symptom sollten Sie einen Patienten als erstes fragen? Berechnen Sie den Information Gain (Informationsgewinn) für jedes Feature. <br>\n",
    "*What symptom should you ask a patient about first? Calculate the Information Gain for each feature.*"
   ]
  },
  {
   "cell_type": "markdown",
   "metadata": {},
   "source": [
    "## Evaluation"
   ]
  },
  {
   "cell_type": "markdown",
   "metadata": {},
   "source": [
    "<div class=\"task_description\">\n",
    "    <i class=\"task\">Task 7.6:</i> <br>\n",
    "</div>\n",
    "\n",
    "Welche der folgenden Aussagen hinsichtlich Konfusionsmatrizen sind wahr/falsch?\n",
    "*Which of the following statements regarding confusion matrices are true or false?*"
   ]
  },
  {
   "cell_type": "markdown",
   "metadata": {},
   "source": [
    "a) Die Einträge auf der Hauptdiagonale sind immer 1. <br>\n",
    "*The entries on the main diagonal are always 1.*\n",
    "\n",
    "Falso"
   ]
  },
  {
   "cell_type": "markdown",
   "metadata": {},
   "source": [
    "b) Die Zelle (i , j) enthält die Anzahl wie oft die Klasse i falsch als j eingeordnet wurde (unter der Bedindung das i ̸= j).<br>\n",
    "*The cell (i , j) contains the number of times the class i was wrongly classified as j (under the condition i ̸= j).*\n",
    "\n",
    "Falso"
   ]
  },
  {
   "cell_type": "markdown",
   "metadata": {},
   "source": [
    "c) Die Confusion-Matrix kann benutzt werden um Probleme beim Klassifizieren zu identifizieren.<br>\n",
    "*The Confusion Matrix can be used to identify problems with classification.*\n",
    "\n",
    "No sé, puede ser"
   ]
  },
  {
   "cell_type": "markdown",
   "metadata": {},
   "source": [
    "d) Die Confusion-Matrix kann benutzt werden um zwei verschiedene Klassifikatoren zu vergleichen.<br>\n",
    "*The Confusion Matrix can be used to compare two different classifiers.*\n",
    "\n",
    "No sé,puede ser"
   ]
  },
  {
   "cell_type": "markdown",
   "metadata": {},
   "source": [
    "e) The number of columns is always equal to the number of rows.<br>\n",
    "*Die Anzahl der Spalten ist immer gleich der Anzahl der Zeilen.*\n",
    "\n",
    "Verdadero"
   ]
  },
  {
   "cell_type": "markdown",
   "metadata": {},
   "source": [
    "<div class=\"task_description\">\n",
    "    <i class=\"task\">Task 7.7:</i> <br>\n",
    "</div>\n",
    "\n",
    "Das System aus Aufgabe 7.2. zur automatischen Klassifikation von Computerspielen in Alterskategorien wird in zwei Varianten entwickelt. Welche der beiden Varianten würden Sie empfehlen, wenn es die oberste Priorität ist Kinder vor Spielen zu schützen, die nicht altersgerecht sind? Erläutern Sie Ihre Entscheidung.<br>\n",
    "\n",
    "*The system from Task 7.2. for the automatic classification of computer games into age categories is developed in two variants. Which of the two variants would you recommend if the top priority is to protect children from games that are not age-appropriate? Explain your decision.*\n",
    "\n",
    "El sistema 2, porque los errores en la predicción son que clasifica como para mayores los que en realidad son para menores, y eso no pasa nada porque aún así proteje a los menores de los juegos mayores. Pero la primera variante predice como para menores los que en realidad son para mayores."
   ]
  },
  {
   "cell_type": "code",
   "execution_count": 3,
   "metadata": {},
   "outputs": [
    {
     "data": {
      "image/png": "[encoded data removed]",
      "text/plain": [
       "<Figure size 432x288 with 3 Axes>"
      ]
     },
     "metadata": {
      "needs_background": "light"
     },
     "output_type": "display_data"
    }
   ],
   "source": [
    "import seaborn as sn\n",
    "import pandas as pd\n",
    "import matplotlib.pyplot as plt\n",
    "\n",
    "sys1 = [[25, 0, 0, 0],\n",
    "        [ 7,18, 0, 0],\n",
    "        [ 4, 0,19, 2],\n",
    "        [ 0, 0, 0,25]]\n",
    "\n",
    "sys2 = [[14, 4, 4, 4],\n",
    "        [ 0,18, 7, 0],\n",
    "        [ 0, 0,25, 4],\n",
    "        [ 0, 0, 0,26]] \n",
    "\n",
    "labels = [0,6,12,18]\n",
    "\n",
    "%matplotlib inline\n",
    "fig, ax = plt.subplots(1,2, sharey='row')\n",
    "sn.set(font_scale=1.4)#for label size\n",
    "sn.heatmap(pd.DataFrame(sys1, range(4), range(4)), ax=ax[0], cmap=\"GnBu\", xticklabels=labels, yticklabels=labels, annot=True, annot_kws={\"size\": 16}, cbar=False).set_title(\"System 1\");\n",
    "sn.heatmap(pd.DataFrame(sys2, range(4), range(4)), ax=ax[1], cmap=\"GnBu\", xticklabels=labels, yticklabels=labels, annot=True, annot_kws={\"size\": 16}).set_title(\"System 2\");\n",
    "plt.xlabel('prediction');\n",
    "plt.ylabel('gold');"
   ]
  },
  {
   "cell_type": "markdown",
   "metadata": {},
   "source": [
    "<div class=\"task_description\">\n",
    "    <i class=\"task\">Task 7.8:</i> <br>\n",
    "</div>\n",
    "\n",
    "Gegeben sei ein Klassifikator zur Erkennung von Spam-Emails.\n",
    "Auf einem Testset von Emails zeigt er folgende Ergebnisse: <br>\n",
    "\n",
    "*A classifier for the detection of spam emails is given. On a test set of emails it shows the following results:*\n",
    "\n",
    "| Mail-ID | Manuelle Einordnung | Automatische Einordnung | TP/FP/TP/FN |\n",
    "| --- | --- | --- | --- |\n",
    "| 1 | ok | ok |  |\n",
    "| 2 | ok | ok |  |\n",
    "| 3 | spam | spam |  |\n",
    "| 4 | spam | ok |  |\n",
    "| 5 | ok | spam |  |\n",
    "| 6 | ok | ok |  |"
   ]
  },
  {
   "cell_type": "markdown",
   "metadata": {},
   "source": [
    "a) Berechnen Sie Accuracy, Precision(spam), Recall(spam), und $F_1$-measure. <br>\n",
    "*Calculate Accuracy, Precision(spam), Recall(spam), and $F_1$-measure.*\n",
    "\n",
    "$$P = \\frac{TP}{TP+FP}$$\n",
    "\n",
    "$$R = \\frac{TP}{TP+FN}$$\n",
    "\n",
    "$$F_1 = \\frac{2 \\times P  \\times R}{P+R}$$"
   ]
  },
  {
   "cell_type": "markdown",
   "metadata": {},
   "source": [
    "b) Mit welcher Strategie können Sie einfach den Recall(SPAM) maximieren? Berechnen Sie A, P, und $F_1$ für diesen Fall. <br>\n",
    "*With which strategy can you maximize the Recall(SPAM) simply? Calculate A, P, and $F_1$ for this case.*"
   ]
  },
  {
   "cell_type": "markdown",
   "metadata": {},
   "source": [
    "c) Was ist die “Majority Class” (MC) im obigen Beispiel? Wie ist P(MC), R(MC), und F1 für einen Klassifkator der immer die Majority Class zuweist? <br>\n",
    "*What is the Majority Class (MC) in the above example? What is P(MC), R(MC), and F1 for a classifier that always assigns the Majority Class?*"
   ]
  },
  {
   "cell_type": "markdown",
   "metadata": {},
   "source": [
    "d) Diskutieren Sie welche Features basierend auf dem Text der Mail ein Klassifikator benutzen könnte, um eine gegebene Email in die Klassen OK/SPAM einzuteilen. <br>\n",
    "*Discuss what features based on the text of the mail a classifier could use to classify a given email into OK/SPAM classes.*"
   ]
  },
  {
   "cell_type": "markdown",
   "metadata": {},
   "source": [
    "# Hausübung"
   ]
  },
  {
   "cell_type": "markdown",
   "metadata": {},
   "source": [
    "<div class=\"task_description\">\n",
    "    <i class=\"task\">Homework 7.1:</i>\n",
    "        ::: 10 Hausaufgabenpunkte :::</div>\n",
    "\n",
    "Entwickeln Sie ein Language Identification System basierend auf dem unten stehenden Code.\n",
    "Der verwendete Klassifikator darf nicht verändert werden.\n",
    "Sie dürfen jedoch andere Features verwenden, sowie die Datenbasis verändern/erweitern.\n",
    "\n",
    "*Develop a Language Identification System based on the code below.\n",
    "The classifier used must not be changed.\n",
    "However, you may use other features and change/expand the database.*"
   ]
  },
  {
   "cell_type": "code",
   "execution_count": 93,
   "metadata": {},
   "outputs": [],
   "source": [
    "from sklearn.feature_extraction.text import CountVectorizer\n",
    "from sklearn.svm import SVC\n",
    "from sklearn.pipeline import Pipeline\n",
    "from sklearn.datasets import load_files\n",
    "from sklearn import metrics\n",
    "from sklearn.metrics import accuracy_score\n",
    "\n",
    "# the training data folder must be passed as first argument\n",
    "dataset = load_files(\"data/lid\")\n",
    "\n",
    "# split the dataset in training and test set:\n",
    "n = dataset.filenames.shape[0]\n",
    "split = int(n*0.8)\n",
    "\n",
    "x_train = [open(f).read() for f in dataset.filenames[:split]]\n",
    "x_test = [open(f).read() for f in dataset.filenames[split:]]\n",
    "\n",
    "y_train = dataset.target[:split]\n",
    "y_test = dataset.target[split:]"
   ]
  },
  {
   "cell_type": "code",
   "execution_count": 94,
   "metadata": {},
   "outputs": [
    {
     "data": {
      "image/png": "[encoded data removed]",
      "text/plain": [
       "<Figure size 432x288 with 1 Axes>"
      ]
     },
     "metadata": {
      "needs_background": "light"
     },
     "output_type": "display_data"
    }
   ],
   "source": [
    "import seaborn as sns\n",
    "\n",
    "# show the class distribution\n",
    "# EXTRA BONUS POINT Opportunity: how to also show the class names here?\n",
    "%matplotlib inline \n",
    "sns.countplot(data=dataset, x='target');"
   ]
  },
  {
   "cell_type": "code",
   "execution_count": 95,
   "metadata": {},
   "outputs": [
    {
     "name": "stderr",
     "output_type": "stream",
     "text": [
      "/usr/local/lib/python3.5/dist-packages/sklearn/svm/base.py:193: FutureWarning: The default value of gamma will change from 'auto' to 'scale' in version 0.22 to account better for unscaled features. Set gamma explicitly to 'auto' or 'scale' to avoid this warning.\n",
      "  \"avoid this warning.\", FutureWarning)\n"
     ]
    },
    {
     "name": "stdout",
     "output_type": "stream",
     "text": [
      "              precision    recall  f1-score   support\n",
      "\n",
      "          ar       1.00      1.00      1.00         4\n",
      "          de       0.93      0.95      0.94        39\n",
      "          en       0.94      0.97      0.95        32\n",
      "          es       0.95      1.00      0.98        21\n",
      "          fr       0.79      1.00      0.88        22\n",
      "          it       1.00      0.76      0.87        17\n",
      "          ja       1.00      1.00      1.00        15\n",
      "          nl       1.00      0.64      0.78        11\n",
      "          pl       1.00      1.00      1.00         6\n",
      "          pt       1.00      0.96      0.98        24\n",
      "          ru       1.00      1.00      1.00        10\n",
      "\n",
      "    accuracy                           0.94       201\n",
      "   macro avg       0.96      0.93      0.94       201\n",
      "weighted avg       0.95      0.94      0.94       201\n",
      "\n",
      "[[ 4  0  0  0  0  0  0  0  0  0  0]\n",
      " [ 0 37  1  0  1  0  0  0  0  0  0]\n",
      " [ 0  0 31  0  1  0  0  0  0  0  0]\n",
      " [ 0  0  0 21  0  0  0  0  0  0  0]\n",
      " [ 0  0  0  0 22  0  0  0  0  0  0]\n",
      " [ 0  0  1  0  3 13  0  0  0  0  0]\n",
      " [ 0  0  0  0  0  0 15  0  0  0  0]\n",
      " [ 0  3  0  0  1  0  0  7  0  0  0]\n",
      " [ 0  0  0  0  0  0  0  0  6  0  0]\n",
      " [ 0  0  0  1  0  0  0  0  0 23  0]\n",
      " [ 0  0  0  0  0  0  0  0  0  0 10]]\n",
      "\n",
      "The language of \"This is a language detection test\" is \"ja\"\n",
      "The language of \"En ce qui concerne l'environnement\" is \"ja\"\n",
      "The language of \"Dies ist ein Test um die Sprache zu erkennen\" is \"ja\"\n",
      "0.9402985074626866\n"
     ]
    }
   ],
   "source": [
    "clf = Pipeline([\n",
    "    ('vec', CountVectorizer(analyzer=\"char\",ngram_range=(1, 2), lowercase=True)),\n",
    "    ('clf', SVC()), # DO NOT CHANGE THIS CLASSIFIER!\n",
    "])\n",
    "\n",
    "# Fit the pipeline on the training set\n",
    "clf.fit(x_train, y_train)\n",
    "\n",
    "# Predict the outcome on the testing set\n",
    "y_predicted = clf.predict(x_test)\n",
    "\n",
    "# Print the classification report\n",
    "print(metrics.classification_report(y_test, y_predicted, target_names=dataset.target_names))\n",
    "\n",
    "# Plot the confusion matrix\n",
    "cm = metrics.confusion_matrix(y_test, y_predicted)\n",
    "print(cm)\n",
    "\n",
    "# Predict the result on some short new sentences:\n",
    "sentences = [\n",
    "    u'This is a language detection test',\n",
    "    u'En ce qui concerne l\\'environnement',\n",
    "    u'Dies ist ein Test um die Sprache zu erkennen',\n",
    "]\n",
    "predicted = clf.predict(sentences)\n",
    "\n",
    "print()\n",
    "\n",
    "for s, p in zip(sentences, predicted):\n",
    "    print(u'The language of \"%s\" is \"%s\"' % (s, dataset.target_names[p]))\n",
    "print(accuracy_score(y_test,y_predicted))"
   ]
  },
  {
   "cell_type": "markdown",
   "metadata": {},
   "source": [
    "More data:\n",
    "* Wikipedia\n",
    "* http://www.cs.cmu.edu/~ralf/langid.html\n",
    "* https://wortschatz.uni-leipzig.de/en/download"
   ]
  },
  {
   "cell_type": "markdown",
   "metadata": {},
   "source": [
    "<div class=\"task_description\">\n",
    "    <i class=\"task\">Homework 7.2:</i>\n",
    "        :::1 Extra-Klausurbonuspunkt :::</div>\n",
    "                                \n",
    "Ein Extra-Klausurbonuspunkt wird an die fünf bestplazierten Teams vergeben.\n",
    "Die Endergebnisse werden in der Vorlesung sowie in einer Liste auf Moodle präsentiert.\n",
    "\n",
    "*An additional exam bonus point is awarded to the five best placed teams. The final results will be presented in the lecture and in a list on Moodle.*"
   ]
  }
 ],
 "metadata": {
  "kernelspec": {
   "display_name": "Python 3",
   "language": "python",
   "name": "python3"
  },
  "language_info": {
   "codemirror_mode": {
    "name": "ipython",
    "version": 3
   },
   "file_extension": ".py",
   "mimetype": "text/x-python",
   "name": "python",
   "nbconvert_exporter": "python",
   "pygments_lexer": "ipython3",
   "version": "3.5.2"
  },
  "varInspector": {
   "cols": {
    "lenName": 16,
    "lenType": 16,
    "lenVar": 40
   },
   "kernels_config": {
    "python": {
     "delete_cmd_postfix": "",
     "delete_cmd_prefix": "del ",
     "library": "var_list.py",
     "varRefreshCmd": "print(var_dic_list())"
    },
    "r": {
     "delete_cmd_postfix": ") ",
     "delete_cmd_prefix": "rm(",
     "library": "var_list.r",
     "varRefreshCmd": "cat(var_dic_list()) "
    }
   },
   "types_to_exclude": [
    "module",
    "function",
    "builtin_function_or_method",
    "instance",
    "_Feature"
   ],
   "window_display": false
  }
 },
 "nbformat": 4,
 "nbformat_minor": 2
}

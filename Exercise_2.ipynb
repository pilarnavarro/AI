{
 "cells": [
  {
   "cell_type": "code",
   "execution_count": 1,
   "metadata": {},
   "outputs": [
    {
     "data": {
      "text/html": [
       "<style>/* Style des gesamten Dokuments */\n",
       "#notebook-container {\n",
       "\tfont-family: \"NimbusMonL-ReguObli\";\n",
       "\tfont-size: 120%\n",
       "}\n",
       "\n",
       "/* Style fÃ¼r die Ãœberschrift: Zentriert diese und stellt sie fett dar. */\n",
       ".headline {\n",
       "\ttext-align: center;\n",
       "\tfont-weight: bold;\n",
       "\tfont-size: 185.7%\n",
       "}\n",
       "\n",
       "/* Style fÃ¼r die Aufgabenbeschreibung. Z.B.: \"Ãœbung zum Thema...\" */\n",
       ".description {\n",
       "\ttext-align: center;\n",
       "\tfont-size: 145.7%\n",
       "}\n",
       "\n",
       "/* Hebt das Abgabedatum fett und kursiv hervor */\n",
       "#submission {\n",
       "\tfont-weight: bold;\n",
       "}\n",
       "\n",
       "/* Style fÃ¼r das eigentliche Thema. Z.B.: \"Intelligenz\" */\n",
       "#topic {\n",
       "\tfont-style: italic;\n",
       "}\n",
       "\n",
       ".task_description {\n",
       "\n",
       "}\n",
       "\n",
       "/* Hebt die Aufgabennummerierung fett hervor. */\n",
       ".task {\n",
       "\tfont-style: normal;\n",
       "\tfont-weight: bold;\n",
       "}\n",
       "\n",
       ".points {\n",
       "\tfont-style: italic;\n",
       "}\n",
       "\n",
       "/* Style einer Code-Cell */\n",
       ".CodeMirror-code {\n",
       "\tbackground-color: #ededed\n",
       "}\n",
       "\n",
       "/* Style eines Kommentars im Code Ã¤ndern. */\n",
       ".cm-s-ipython span.cm-comment {\n",
       "\n",
       "}\n",
       "\n",
       ".cm-s-ipython span.cm-atom {\n",
       "\n",
       "}\n",
       "\n",
       ".cm-s-ipython span.cm-number {\n",
       "\n",
       "}\n",
       "\n",
       "/* Style eines Python-Keywords Ã¤ndern */\n",
       ".cm-s-ipython span.cm-keyword {\n",
       "\tcolor: #B000B0\n",
       "}\n",
       "\n",
       ".cm-s-ipython span.cm-def {\n",
       "\n",
       "}\n",
       "\n",
       "/* Style einer Python-Variable Ã¤ndern */\n",
       ".cm-s-ipython span.cm-variable {\n",
       "\t\n",
       "}\n",
       "\n",
       "/* Style einer Property Ã¤ndern */\n",
       ".cm-s-ipython span.cm-property {\n",
       "\t\n",
       "}\n",
       "\n",
       "/* Style eines Python-Operators Ã¤ndern */\n",
       ".cm-s-ipython span.cm-operator {\n",
       "\t\n",
       "}\n",
       "\n",
       "/* Style eines Python-Strings Ã¤ndern */\n",
       ".cm-s-ipython span.cm-string {\n",
       "\tcolor: brown;\n",
       "}\n",
       "\n",
       "/* Style einer eingebauten Funktion Ã¤ndern (z.B. \"open\") */\n",
       ".cm-s-ipython span.cm-builtin {\n",
       "\t\n",
       "}\n",
       "\n",
       "/* Hebt hervor, welche Klammern zueinander passen */\n",
       ".cm-s-ipython .CodeMirror-matchingbracket {\n",
       "\t\n",
       "}\n",
       "\n",
       ".cm-s-ipython span.cm-variable-2 {\n",
       "\n",
       "}</style>"
      ],
      "text/plain": [
       "<IPython.core.display.HTML object>"
      ]
     },
     "execution_count": 1,
     "metadata": {},
     "output_type": "execute_result"
    }
   ],
   "source": [
    "from IPython.core.display import HTML\n",
    "\n",
    "HTML(\"<style>\" + open(\"style.css\").read() + \"</style>\")"
   ]
  },
  {
   "cell_type": "markdown",
   "metadata": {},
   "source": [
    "<div class=\"task_description\">\n",
    "Inmaculada Marín Carballo  3086148\n",
    "    \n",
    "Pilar Navarro Ramírez  3086150\n",
    "</div>"
   ]
  },
  {
   "cell_type": "markdown",
   "metadata": {},
   "source": [
    "## Hausübung"
   ]
  },
  {
   "cell_type": "markdown",
   "metadata": {},
   "source": [
    "<div class=\"task_description\">\n",
    "    <i class=\"task\">Homework 2.1:</i>\n",
    "        ::: 5 Hausaufgabenpunkte :::</div>\n",
    "        \n",
    "Create PEAS descriptions for the following agents. Justify your responses::<br>\n",
    "(a) Mensch-ärger-dich-nicht<br>\n",
    "(b) Selbstfahrende U-Bahn<br>\n",
    "(c) Aktienhändler<br>"
   ]
  },
  {
   "cell_type": "markdown",
   "metadata": {},
   "source": [
    "<div class=\"task_description\">\n",
    "    \n",
    "(a) Ludo <br>\n",
    "* Performance: ranking of winners\n",
    "* Enviroment: the ludo board, dices, tokens\n",
    "* Actuators: moves that can be performed\n",
    "* Sensors: placement of pieces in current position, whose turn is it?\n",
    "\n",
    "(b) Selbstfahrende U-Bahn<br>\n",
    "* Performance: destination, schedule, safety, velocity, legality, confort, capacity, profits, efficiency, contamination\n",
    "* Enviroment: underground, people\n",
    "* Actuators: Steering, accelerating, brake, horn, speakers/displays, doors\n",
    "* Sensors: engine sensors, velocity sensors, gps, clock, weight sensor, capacity sensor, door sensor\n",
    "\n",
    "(c) Aktienhändler<br>\n",
    "* Performance: profit, loss, cuantity of stock\n",
    "* Enviroment: the stock market\n",
    "* Actuators: display, calculator, vendors\n",
    "* Sensors: change of shares in the market sensor\n"
   ]
  },
  {
   "cell_type": "markdown",
   "metadata": {},
   "source": [
    "<div class=\"task_description\">\n",
    "    <i class=\"task\">Homework 2.2:</i>\n",
    "        ::: 5 Hausaufgabenpunkte :::</div>\n",
    "\n",
    "Describe the environments in which the agents operate using the categories Observability, Certainty, Temporal Succession, Continuity, Scale, and Population. Justify your answers."
   ]
  },
  {
   "cell_type": "markdown",
   "metadata": {},
   "source": [
    "(a) Ludo <br>\n",
    "* Observability: fully, all moves can be observed by each participant\n",
    "* Certainty: stochastic, everything is determined by dices\n",
    "* Temporal Succession: sequential, every movement in the board can determine how to follow the game\n",
    "* Continuity: static, the enviroment does not change\n",
    "* Scale: discrete, the games stops at some point and the enviroment is limitated\n",
    "* Population: multi-agent, the game requires 2 or more players\n",
    "\n",
    "(b) Selbstfahrende U-Bahn<br>\n",
    "* Observability: partially, between stops\n",
    "* Certainty:  stochastic, because unexpected events as a person in the rails\n",
    "* Temporal Succession: episodic, as an specific U-Bahn always follows the same rute\n",
    "* Continuity: dynamic, the U-Bahn change position and eviroment all the time it is working\n",
    "* Scale: continuous, the actions, states and percepts are on a continuous scale\n",
    "* Population: multi, several agents more in the enviroment\n",
    "\n",
    "(c) Aktienhändler<br>\n",
    "* Observability: partially, parts of the envirometn, in this case stock market, are not perceived\n",
    "* Certainty: stochastic, almost everything can change the value of shares in the stock market\n",
    "* Temporal Succession: sequential, buying or selling a share in a specific moment influence future decisions\n",
    "* Continuity: dynamic, even if our agent is not acting the stock market may change and the shares it owns can value more or less\n",
    "* Scale: continuous, actions are always need, states change constantly and percepts are very changeable\n",
    "* Population: multi, several agents more in the enviroment that determinate the action of the agent"
   ]
  },
  {
   "cell_type": "code",
   "execution_count": null,
   "metadata": {},
   "outputs": [],
   "source": []
  }
 ],
 "metadata": {
  "kernelspec": {
   "display_name": "Python 3",
   "language": "python",
   "name": "python3"
  },
  "language_info": {
   "codemirror_mode": {
    "name": "ipython",
    "version": 3
   },
   "file_extension": ".py",
   "mimetype": "text/x-python",
   "name": "python",
   "nbconvert_exporter": "python",
   "pygments_lexer": "ipython3",
   "version": "3.5.2"
  }
 },
 "nbformat": 4,
 "nbformat_minor": 2
}

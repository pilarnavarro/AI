{
 "cells": [
  {
   "cell_type": "markdown",
   "metadata": {},
   "source": [
    "##### Pilar Navarro Ramírez                                      "
   ]
  },
  {
   "cell_type": "markdown",
   "metadata": {},
   "source": [
    "Matrikel-Nr.3086150"
   ]
  },
  {
   "cell_type": "markdown",
   "metadata": {},
   "source": [
    "##### Inmaculada Marín Carballo     "
   ]
  },
  {
   "cell_type": "markdown",
   "metadata": {},
   "source": [
    "Matrikel-Nr.3086148"
   ]
  },
  {
   "cell_type": "markdown",
   "metadata": {},
   "source": [
    "## Hausübung"
   ]
  },
  {
   "cell_type": "markdown",
   "metadata": {},
   "source": [
    "<div class=\"task_description\">\n",
    "    <i class=\"task\">Homework 1.1</i> - <i class=\"points\">4 Punkte</i> <br><br>\n",
    "\n",
    "\n",
    "In der Pflichtlektüre Russel & Norvig, Kapitel 26.3, werden verschiedene ethische Probleme diskutiert, die durch die Weiterentwicklung von künstlicher Intelligenz auftreten können. Seit einigen Jahren basiert fast alle neu entwickelte Software in der KI auf maschinellen Lernverfahren, die auf Big Data trainiert werden. Nennen Sie zwei weitere ethische Probleme, die dadurch entstehen könnten. Begründen Sie Ihre Antwort und nennen Sie mögliche Lösungen.\n",
    "</div>"
   ]
  },
  {
   "cell_type": "markdown",
   "metadata": {},
   "source": [
    "                            \n",
    "                            "
   ]
  },
  {
   "cell_type": "markdown",
   "metadata": {},
   "source": [
    "* Considering AIs a new race and necessity of regulation of rights and responsabilities:\n",
    "\n",
    "\n",
    "It might happen that a AI will learn about behaviour to a point that it can emulate human behaviour almost perfectly. From a philosophical point of view, we humans have free will (an action is free only if the agent could have done otherwise). It can come to a time where the decisions to make by an AI will be determinated from this. Being able to do this will demostrate that the AI has \"free will\", this will make them one step closer to what it means to be a living thing but, in this case, its intelligence and behaviour is too humanlike to be treated, perhaps, as humans treat insects. Should this make humans treat AIs differently? Give them rights and make them responsible in first degree for their actions?\n",
    "Because we are creating the rules that determinate firmly how should the AI behave, we cannot say that it is making a total \"free\" decision. It is really important that the rules we decide for the AIs we are creating are good. We can start with Asimov's rules but we have the obligation to make more specific subrules that determinate how should the AI decide which action. \n",
    "\n",
    "\n",
    "*  Biases\n",
    "\n",
    "The algorithms of automatic learning operating right now, and this is not a problem of the future, are analyzing our behaviour in the world and creating own conduct from it. We are not always good examples and no person will agree that learning from us without a social conscience is a good idea.\n",
    "For example, in 2015 Flickr's auto-tagging of online photos label pictures of black men as gorillas; or when researchers determine that Google search results for black-sounding names are more likely to be accompanied by ads about criminal activity than white-sounding names.\n",
    "A solution will be to set social rules for AIs but with all the problems and lack of understanding and agreement between politics, religion, etc how can we trust an AI programmed by an human? which morality or principles are to be choose while the world is still debating this?"
   ]
  },
  {
   "cell_type": "markdown",
   "metadata": {},
   "source": [
    "---\n",
    "<div class=\"task_description\">\n",
    "    <i class=\"task\">Homework 1.2</i> - <i class=\"points\">5 Punkte</i> <br>\n",
    "    \n",
    "Erweitern Sie den Beispielcode einer simplen Eliza Implementierung, um die unten beschriebenen Fähigkeiten zu ermöglichen. Verwenden Sie dabei reguläre Ausdrücke (regular expressions). Kommentieren Sie ihren Code!\n",
    "\n",
    "* Eliza sollte in der Lage sein, auf die Nennung von Familienmitgliedern (\"Vater\", \"Schwester\", etc) zu reagieren.\n",
    "* Eliza sollte Negation in den Aussagen erkennen können.\n",
    "* Eliza sollte die Konjunktionen \"und\" und \"oder\" unterscheiden und unterschiedlich reagieren können.\n",
    "* Eine Fähigkeit Ihrer Wahl.\n",
    "</div>"
   ]
  },
  {
   "cell_type": "code",
   "execution_count": 72,
   "metadata": {},
   "outputs": [],
   "source": [
    "import random\n",
    "import re\n",
    "\n",
    "class MyEliza:\n",
    "\n",
    "    # Eliza's 'intelligence'\n",
    "    def run(self):\n",
    "        \n",
    "        welcome = \"Hello.Why would you like to talk with me?\"\n",
    "        goodbye = str(r\"\\b([Gg]ood)?[Bb]ye\\b\") #The user could say anything that contains bye or goodbye to finish the chat\n",
    "        feelings = [\"afraid\", \"depressed\", \"lonely\", \"pleased\", \"stressed\", \"unhappy\", \"sad\", \"dissatisfied\",\"worried\",\"bad\"]\n",
    "        family=[\"father\",\"mother\",\"sister\",\"brother\",\"son\",\"daughter\",\"friend\",\"cousin\"]\n",
    "        dummy_sentences = [\n",
    "            \"Tell me more about it\",\n",
    "            \"Interesting\",\n",
    "            \"Can you explain that in more detail?\",\n",
    "            \"What do you think about it?\"\n",
    "        ]\n",
    "       \n",
    "        solutions=[\n",
    "            \"Maybe you should talk with a friend about the situation that will help you a lot ;)\",\n",
    "            \"Go out for a walk, forget for a moment about the situation and relax :D\",\n",
    "            \"Listen to uplifting music and forget for a moment about the situation ;)\",\n",
    "            \"Go to a party with your friends and have some fun!!\",\n",
    "            \"Do some sport, that is good for everything :P\"        \n",
    "        ]\n",
    "       \n",
    "\n",
    "        # Greet the user\n",
    "        print(welcome);\n",
    "\n",
    "    \n",
    "        # Process user input. Processing continues until the user says goodbye. \n",
    "        s = \"\"\n",
    "        end=None\n",
    "        while end == None:\n",
    "            # Read user input\n",
    "            s = input()\n",
    "            end=re.search(goodbye,s)\n",
    "           \n",
    "            if end != None:\n",
    "                print(\"Goodbye :)\");\n",
    "                break\n",
    "            answer = \"\"\n",
    "            \n",
    "            #Check for family member\n",
    "            logicMember=False\n",
    "            for member in family:\n",
    "                if member in s:\n",
    "                    logicMember=True\n",
    "                    #Found family member -> generate answer\n",
    "                    answer= \"What's wrong with your \" + member + \"?\"\n",
    "                    # stop processing user input\n",
    "                    break;\n",
    "           \n",
    "            # Check if the person is different to the speaker\n",
    "            expression = str(\"([Hh]e|[Ss]he)\")\n",
    "            pattern = re.compile(expression)\n",
    "            matcher = pattern.search(s)\n",
    "            if matcher!=None:\n",
    "                logicMember=True\n",
    "           \n",
    "            # Check for feelings\n",
    "            for feeling in feelings:\n",
    "                if feeling in s:\n",
    "                    # Found feeling -> generate answer\n",
    "                    answer = \"Why do you feel \" + feeling + \"?\"\n",
    "                    if logicMember: answer = \"Why does he/she feel \" + feeling + \"?\"\n",
    "                    # stop processing user input\n",
    "                    break;\n",
    "           \n",
    "            #Negative sentences\n",
    "            expression = str(r\"\\bnot\\b.+(good|happy|pleased|satisfied)\")\n",
    "            pattern = re.compile(expression)\n",
    "            matcher = pattern.search(s)\n",
    "            if matcher!=None:\n",
    "                #Found negative feeling -> generate answer\n",
    "                answer = \"Why do you feel that bad?\"\n",
    "                if logicMember: answer = \"Why does he/she feel that bad?\"\n",
    "                    \n",
    "            \n",
    "            #Conjunction 'and'\n",
    "            expression=str(r\"([a-z]+)\\s\\band\\b\\s([a-z]+)\")\n",
    "            pattern = re.compile(expression)\n",
    "            matcher = pattern.search(s)\n",
    "            if matcher!=None:\n",
    "                #Found conjunction and -> generate answer\n",
    "                answer = \"Okay, explain all feelings to me one by one. Why do you feel \" + matcher.group(1) +\" and \"+ matcher.group(2) + \"?\" \n",
    "                if logicMember: answer = \"Okay, explain all feelings to me one by one. Why does he/she feel \" + matcher.group(1) +\" and \"+ matcher.group(2) + \"?\" \n",
    "           \n",
    "            #Conjunction 'or'\n",
    "            expression=str(r\"\\bor\\b\")\n",
    "            pattern = re.compile(expression)\n",
    "            matcher = pattern.search(s)\n",
    "            if matcher!=None:\n",
    "                #Found conjunction or -> generate answer\n",
    "                answer = \"Try to make up your mind please. What is exactly the feeling?\"\n",
    "            \n",
    "            #Asking for a solution. If the user ask for help, Eliza will give a random solution\n",
    "            expression=str(\"(help|solutions?|\\bdo\\b|advice)\")\n",
    "            pattern = re.compile(expression)\n",
    "            matcher = pattern.search(s)\n",
    "            if matcher!=None:\n",
    "                    #Found request of help -> generate random solution\n",
    "                    answer = random.choice(solutions)\n",
    "                \n",
    "            # If nothing relevant has been detected, generate a dummy answer.\n",
    "            if len(answer) == 0:\n",
    "                # output random sentence\n",
    "                answer = random.choice(dummy_sentences)\n",
    "\n",
    "            print(answer)\n"
   ]
  },
  {
   "cell_type": "code",
   "execution_count": 74,
   "metadata": {},
   "outputs": [
    {
     "name": "stdout",
     "output_type": "stream",
     "text": [
      "Hello.Why would you like to talk with me?\n",
      "thank you for your advice, bye\n",
      "Goodbye :)\n"
     ]
    }
   ],
   "source": [
    "eliza = MyEliza()\n",
    "eliza.run()"
   ]
  },
  {
   "cell_type": "markdown",
   "metadata": {},
   "source": [
    "<div class=\"task_description\">\n",
    "    <i class=\"task\">Homework 1.3</i> - <i class=\"points\">1 Punkt</i> <br><br>\n",
    "\n",
    "Beschreiben Sie, inwiefern Ihre Version von SimpleEliza die Basisversion verbessert.\n",
    "</div>"
   ]
  },
  {
   "cell_type": "markdown",
   "metadata": {},
   "source": [
    "My version of Eliza gives solutions for the problems of the user. Although they are random solutions that sometimes make no much sense, at least the user feels like he/she is given a solution. In the base version, Eliza never helps the user or gives advice and this new version makes her look more realistic or human. Moreover, the fact that it can recognise other persons (family members) apart from the user, differentiate between 'and' and 'or' and identify negatives make it look more intelligent as well.\n",
    "\n",
    "I also added a small detail (not very relevant): the user could say anything that contains bye/Bye or goodbye/Goodbye to end the chat (like: Thank you for help, goodbye), not just goodbye. In the old version this wouldn't finish the chat, what made Eliza look a bit dumb."
   ]
  }
 ],
 "metadata": {
  "kernelspec": {
   "display_name": "Python 3",
   "language": "python",
   "name": "python3"
  },
  "language_info": {
   "codemirror_mode": {
    "name": "ipython",
    "version": 3
   },
   "file_extension": ".py",
   "mimetype": "text/x-python",
   "name": "python",
   "nbconvert_exporter": "python",
   "pygments_lexer": "ipython3",
   "version": "3.8.2"
  }
 },
 "nbformat": 4,
 "nbformat_minor": 2
}

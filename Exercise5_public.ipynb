{
 "cells": [
  {
   "cell_type": "code",
   "execution_count": 3,
   "metadata": {},
   "outputs": [
    {
     "data": {
      "text/html": [
       "<style>/* Style des gesamten Dokuments */\n",
       "#notebook-container {\n",
       "\tfont-family: \"NimbusMonL-ReguObli\";\n",
       "\tfont-size: 120%\n",
       "}\n",
       "\n",
       "/* Style für die Überschrift: Zentriert diese und stellt sie fett dar. */\n",
       ".headline {\n",
       "\ttext-align: center;\n",
       "\tfont-weight: bold;\n",
       "\tfont-size: 185.7%\n",
       "}\n",
       "\n",
       "/* Style für die Aufgabenbeschreibung. Z.B.: \"Übung zum Thema...\" */\n",
       ".description {\n",
       "\ttext-align: center;\n",
       "\tfont-size: 145.7%\n",
       "}\n",
       "\n",
       "/* Hebt das Abgabedatum fett und kursiv hervor */\n",
       "#submission {\n",
       "\tfont-weight: bold;\n",
       "}\n",
       "\n",
       "/* Style für das eigentliche Thema. Z.B.: \"Intelligenz\" */\n",
       "#topic {\n",
       "\tfont-style: italic;\n",
       "}\n",
       "\n",
       ".task_description {\n",
       "\n",
       "}\n",
       "\n",
       "/* Hebt die Aufgabennummerierung fett hervor. */\n",
       ".task {\n",
       "\tfont-style: normal;\n",
       "\tfont-weight: bold;\n",
       "}\n",
       "\n",
       ".points {\n",
       "\tfont-style: italic;\n",
       "}\n",
       "\n",
       "ol.lower_roman {\n",
       "    list-style-type: lower-roman;\n",
       "}\n",
       "\n",
       "ol.characters {\n",
       "    list-style-type: lower-alpha;\n",
       "}\n",
       "\n",
       "/* Style einer Code-Cell */\n",
       ".CodeMirror-code {\n",
       "\tbackground-color: #ededed\n",
       "}\n",
       "\n",
       "/* Style eines Kommentars im Code ändern. */\n",
       ".cm-s-ipython span.cm-comment {\n",
       "\n",
       "}\n",
       "\n",
       ".cm-s-ipython span.cm-atom {\n",
       "\n",
       "}\n",
       "\n",
       ".cm-s-ipython span.cm-number {\n",
       "\n",
       "}\n",
       "\n",
       "/* Style eines Python-Keywords ändern */\n",
       ".cm-s-ipython span.cm-keyword {\n",
       "\tcolor: #B000B0\n",
       "}\n",
       "\n",
       ".cm-s-ipython span.cm-def {\n",
       "\n",
       "}\n",
       "\n",
       "/* Style einer Python-Variable ändern */\n",
       ".cm-s-ipython span.cm-variable {\n",
       "\t\n",
       "}\n",
       "\n",
       "/* Style einer Property ändern */\n",
       ".cm-s-ipython span.cm-property {\n",
       "\t\n",
       "}\n",
       "\n",
       "/* Style eines Python-Operators ändern */\n",
       ".cm-s-ipython span.cm-operator {\n",
       "\t\n",
       "}\n",
       "\n",
       "/* Style eines Python-Strings ändern */\n",
       ".cm-s-ipython span.cm-string {\n",
       "\tcolor: brown;\n",
       "}\n",
       "\n",
       "/* Style einer eingebauten Funktion ändern (z.B. \"open\") */\n",
       ".cm-s-ipython span.cm-builtin {\n",
       "\t\n",
       "}\n",
       "\n",
       "/* Hebt hervor, welche Klammern zueinander passen */\n",
       ".cm-s-ipython .CodeMirror-matchingbracket {\n",
       "\t\n",
       "}\n",
       "\n",
       ".cm-s-ipython span.cm-variable-2 {\n",
       "\n",
       "}\n",
       "</style>"
      ],
      "text/plain": [
       "<IPython.core.display.HTML object>"
      ]
     },
     "execution_count": 3,
     "metadata": {},
     "output_type": "execute_result"
    }
   ],
   "source": [
    "from IPython.core.display import HTML\n",
    "\n",
    "HTML(\"<style>\" + open(\"style.css\").read() + \"</style>\")"
   ]
  },
  {
   "cell_type": "markdown",
   "metadata": {},
   "source": [
    "<div class=\"headline\">\n",
    "Grundlagen künstlicher Intelligenz\n",
    "<br><br>\n",
    "Sommersemester 2019\n",
    "</div>\n",
    "<br>\n",
    "<div class=\"description\">\n",
    "    Übung zum Thema <i id=\"topic\">\"Lokale Suche\"</i>\n",
    "    <br><br>\n",
    "    Deadline Abgabe: <i #id=\"submission\">Freitag, 07.6.2019 (23:55 Uhr)</i>\n",
    "</div>"
   ]
  },
  {
   "cell_type": "markdown",
   "metadata": {},
   "source": [
    "# Präsenzübung\n",
    "\n"
   ]
  },
  {
   "cell_type": "markdown",
   "metadata": {},
   "source": [
    "## Anmerkung\n",
    "\n",
    "Für diese Übung verwenden wird die Pythonbibliothek Pandas zum Laden von CSV-Dateien, die für die Challenge benötigt werden. Um Pandas zu installieren, müssen Sie einfach den Befehl <br>\n",
    "\n",
    "* *pip install pandas*\n",
    "    \n",
    "in die Kommandozeile eingeben. Falls Sie sowohl Python3 als auch Python2 installiert haben, lautet der entsprechende Befehl\n",
    "\n",
    "* *pip3 install pandas*"
   ]
  },
  {
   "cell_type": "markdown",
   "metadata": {},
   "source": [
    "## Referenzen\n",
    " * [Peter Norvig's take](https://github.com/norvig/pytudes/blob/master/ipynb/TSP.ipynb)\n",
    " * [Overview of the TSP problem](http://www.math.uwaterloo.ca/tsp/index.html)\n",
    " * [Genetic algorithm](http://www.theprojectspot.com/tutorial-post/applying-a-genetic-algorithm-to-the-travelling-salesman-problem/5)\n",
    " * [Simulated Annealing](http://www.theprojectspot.com/tutorial-post/simulated-annealing-algorithm-for-beginners/6)"
   ]
  },
  {
   "cell_type": "markdown",
   "metadata": {},
   "source": [
    "## Das sogenannte TSP-Problem"
   ]
  },
  {
   "cell_type": "markdown",
   "metadata": {},
   "source": [
    "Das Finden einer kürzesten Reiseroute hat eine große Zahl praktischer Anwendungen wie z.B. Navigationssysteme\n",
    "oder die Steuerung von Lötrobotern. <br> Beim sogenannten “Traveling Salesperson Problem” werden eine Anzahl von\n",
    "Städten (Knoten) vorgegeben, die durch Straßen (edges) verbunden sind. Ihre Aufgabe ist es einen Algorithmus zu\n",
    "entwickeln, der alle Städte auf einer möglichst kurzen Route besucht. Jede Stadt muss dabei <b>genau einmal</b> besucht werden.<br>\n",
    "Städte werden mit IDs von 0...N-1 benannt, wobei N die Anzahl der Städte ist. Eine Tour beginnt immer in der Stadt mit der ID 0 und endet dort auch."
   ]
  },
  {
   "cell_type": "markdown",
   "metadata": {},
   "source": [
    "*Finding a shortest route has a large number of practical applications, e.g. navigation systems or the control of soldering robots.\n",
    "The \"Traveling Salesperson Problem\" specifies a number of cities (nodes) connected by roads (edges). Your task is to develop an algorithm that visits all cities on the shortest possible route. Each city can be visited any number of times and every street can be used as often as you like.<br>\n",
    "Cities are named with IDs from 0 ... N-1, where N is the number of cities. A tour always starts in the city with the ID 0 and ends there.*"
   ]
  },
  {
   "cell_type": "markdown",
   "metadata": {},
   "source": [
    "Möglicherweise geeignete Algorithmen für das Problem:<br>\n",
    "*Possibly suitable algorithms for the problem:*\n",
    "\n",
    "* Brute force\n",
    "* Greedy best-first search\n",
    "* Simulated Annealing\n",
    "* Genetic Algorithms\n",
    "* Ant colony optimization"
   ]
  },
  {
   "cell_type": "markdown",
   "metadata": {},
   "source": [
    "## Problemverständnis"
   ]
  },
  {
   "cell_type": "markdown",
   "metadata": {},
   "source": [
    "![Beispiel_TSP](img/exercise5/tsp_5towns.png)"
   ]
  },
  {
   "cell_type": "markdown",
   "metadata": {},
   "source": [
    "<div class=\"task_description\">\n",
    "    <i class=\"task\">Task 5.1:</i> <br>\n",
    "</div>\n",
    "Betrachten Sie das Beispiel mit fünf Städten in Abb. 1. Zur visuellen Unterscheidung von den Fahrtzeiten sind Städte hier mit Buchstaben statt Zahlen kodiert.\n",
    "\n",
    "1. Berechnen Sie die Fahrtzeit auf der “naiven” Route [A, B, C, D, E, A].\n",
    "2. Ermitteln Sie händisch die Fahrtzeit mittels der Strategie “greedy best-first”.\n",
    "3. Berechnen Sie die Anzahl der möglichen Routen (= Permutationen) für diese Karte."
   ]
  },
  {
   "cell_type": "markdown",
   "metadata": {},
   "source": [
    "*Consider the example with five cities in Abb. 1. To visually differentiate the travel times, cities are coded with letters instead of numbers.* <br>\n",
    "1. *Calculate the travel time on the \"naive\" route [A, B, C, D, E, A].*\n",
    "2. *Determine manually the travel time by means of the strategy \"greedy best-first\".*\n",
    "3. *Calculate the number of possible routes (= permutations) for this map.*"
   ]
  },
  {
   "cell_type": "markdown",
   "metadata": {},
   "source": [
    "<div class=\"task_description\">\n",
    "    <i class=\"task\">Task 5.2:</i> <br>\n",
    "\n",
    "Stellen Sie sich nun größere Karten der Größe 10, 15, 20, und 100 vor. Nehmen Sie an, der Startpunkt sei\n",
    "vorgegeben. Wie viele mögliche Permutationen gibt es? Ist die \"Brute-ForceMethode eine sinnvolle Strategie?\n",
    "</div>"
   ]
  },
  {
   "cell_type": "markdown",
   "metadata": {},
   "source": [
    "*Imagine bigger cards of size 10, 15, 20, and 100. Suppose the starting point is given. How many possible permutations are there? Is the brute-force method a sensible strategy?*"
   ]
  },
  {
   "cell_type": "markdown",
   "metadata": {},
   "source": [
    "## Code"
   ]
  },
  {
   "cell_type": "markdown",
   "metadata": {},
   "source": [
    "Folgenden Code stellen wir zur Verfügung. Versuchen Sie sich einen Überblick über die Funktionen zu verschaffen.\n",
    "\n",
    "*We provide the following code. Try to get an overview of the functions.*"
   ]
  },
  {
   "cell_type": "code",
   "execution_count": null,
   "metadata": {},
   "outputs": [],
   "source": [
    "import matplotlib.pyplot as plt\n",
    "from math import radians, cos, sin, asin, sqrt\n",
    "from itertools import permutations\n",
    "from random import shuffle\n",
    "import pandas\n",
    "\n",
    "\n",
    "def tour_length(cities, tour):\n",
    "    \"\"\"The total of distances between each pair of consecutive cities in the tour.\n",
    "    This includes the last-to-first, distance(tour[-1], tour[0])\"\"\"\n",
    "    return sum(get_dist(cities, tour[i - 1], tour[i]) \n",
    "               for i in range(len(tour)))\n",
    "\n",
    "def plot_tour(cities, tour, style='bo-'): \n",
    "    \"Plot every city and link in the tour, and highlight start city.\"\n",
    "    print(\"{} cities ⇒ tour length {:.0f}\".format(len(tour), tour_length(cities, tour)))\n",
    "\n",
    "    plt.figure(figsize=(10,10))\n",
    "    start = tour[0:1]\n",
    "    plot_segment(cities, tour + start, style)\n",
    "    plot_segment(cities, start, 'rD') # start city is red Diamond.\n",
    "    \n",
    "def plot_segment(cities, segment, style='bo-'):\n",
    "    \"Plot every city and link in the segment.\"\n",
    "    plt.plot([X(cities, i) for i in segment], [Y(cities, i)*1.4 for i in segment], style, clip_on=False)\n",
    "    plt.axis('scaled')\n",
    "    plt.axis('off')\n",
    "    \n",
    "def X(cities, i): \"X coordinate.\"; return cities.loc[i,'lng']\n",
    "def Y(cities, i): \"Y coordinate.\"; return cities.loc[i,'lat']\n",
    "\n",
    "def get_dist(cities, i, j):\n",
    "    \"\"\"Compute the distance between two citites from their longitude and latitude values\"\"\"\n",
    "\n",
    "    lat1 = cities.loc[i,'lat']\n",
    "    lng1 = cities.loc[i,'lng']\n",
    "    lat2 = cities.loc[j,'lat']\n",
    "    lng2 = cities.loc[j,'lng']\n",
    "    \n",
    "    r = 6371 # radius of the earth in km\n",
    "    lat1=radians(lat1)\n",
    "    lat2=radians(lat2)\n",
    "    lat_dif=lat2-lat1\n",
    "    lng_dif=radians(lng2-lng1)\n",
    "    a=sin(lat_dif/2.0)**2+cos(lat1)*cos(lat2)*sin(lng_dif/2.0)**2\n",
    "    d=2*r*asin(sqrt(a))\n",
    "    \n",
    "    return d\n",
    "\n",
    "# data from https://simplemaps.com/data/de-cities\n",
    "cities = pandas.read_csv('data/tsp/de.csv')\n",
    "\n",
    "tour = [i for i in range(cities.shape[0])]\n",
    "\n",
    "# tour in order of the city IDs\n",
    "plot_tour(cities, tour)"
   ]
  },
  {
   "cell_type": "markdown",
   "metadata": {},
   "source": [
    "<div class=\"task_description\">\n",
    "    <i class=\"task\">Task 5.3:</i> <br>\n",
    "\n",
    "Implementieren Sie einen Solver der zufällig generierte Touren ausgibt.\n",
    "</div>\n",
    "\n",
    "*Implement a solver that outputs randomly generated tours.*"
   ]
  },
  {
   "cell_type": "code",
   "execution_count": null,
   "metadata": {},
   "outputs": [],
   "source": [
    "def random(cities, n):\n",
    "    tour = [x for x in list(cities.index.values)]\n",
    "\n",
    "    return tour\n",
    "\n",
    "plot_tour(cities, random(cities, 500))          "
   ]
  },
  {
   "cell_type": "markdown",
   "metadata": {},
   "source": [
    "<div class=\"task_description\">\n",
    "    <i class=\"task\">Task 5.4:</i> <br>\n",
    "\n",
    "Analysieren Sie den unten stehenden Solver. Welche Strategie wird implementiert?\n",
    "</div>\n",
    "\n",
    "*Analyze the solver below. What strategy is being implemented?*"
   ]
  },
  {
   "cell_type": "code",
   "execution_count": null,
   "metadata": {},
   "outputs": [],
   "source": [
    "def xyz(cities, n):\n",
    "    # start with random tour\n",
    "    tour = [x for x in list(cities.index.values)]\n",
    "    \n",
    "    min_tour = tour\n",
    "    min_tour_len = tour_length(cities, tour)\n",
    "    # n rounds\n",
    "    for i in range(n):\n",
    "        tour = local_best(cities, min_tour)\n",
    "        tour_len = tour_length(cities, tour)\n",
    "        if tour_len < min_tour_len:\n",
    "            min_tour_len = tour_len\n",
    "            min_tour = list(tour)\n",
    "            print(\"currently shortest: {:.0f}\".format(min_tour_len))\n",
    "\n",
    "    return min_tour\n",
    "\n",
    "def local_best(cities, tour):\n",
    "    min_tour = tour\n",
    "    min_tour_len = tour_length(cities, tour)\n",
    "    for i in range(len(tour)-1):\n",
    "        # swap\n",
    "        tour[i], tour[i+1] = tour[i+1], tour[i]\n",
    "        tour_len = tour_length(cities, tour)\n",
    "        if tour_len < min_tour_len:\n",
    "            min_tour_len = tour_len\n",
    "            min_tour = list(tour)\n",
    "        # swap back\n",
    "        tour[i], tour[i+1] = tour[i+1], tour[i]\n",
    "            \n",
    "    return min_tour\n",
    "    \n",
    "plot_tour(cities, xyz(cities, 10))  "
   ]
  },
  {
   "cell_type": "markdown",
   "metadata": {},
   "source": [
    "# Hausübung"
   ]
  },
  {
   "cell_type": "markdown",
   "metadata": {},
   "source": [
    "<div class=\"task_description\">\n",
    "    <i class=\"task\">Homework 5.1:</i>\n",
    "        :::2 Hausaufgabenpunkte :::</div>\n",
    "       \n",
    "Ermitteln Sie die Fahrtzeit mit der Strategie “Greedy-Best-First” anhand des Kartenbeispiels für 6\n",
    "Städte. Der Startpunkt ist E. Notieren Sie außerdem die Reihenfolge, in der die Knoten besucht\n",
    "werden. <br>\n",
    "Falls Ihnen die Implementierung des Problems nicht gelingt, können Sie Stack und Queue auch manuell berechnen. Kommentieren Sie in diesem Fall jeden Schritt.       \n",
    "\n",
    "*Determine the travelling time with the strategy \"Greedy-Best-First\" using the map example for 6 cities. The starting point is E. Also note the order in which the nodes are visited.* <br>\n",
    "*If you are unable to implement the problem, you can also calculate the stack and queue manually. In this case, comment each step.*\n",
    "\n",
    "![Beispiel_TSP](img/exercise5/tsp_6towns.png)\n"
   ]
  },
  {
   "cell_type": "markdown",
   "metadata": {},
   "source": [
    "<div class=\"task_description\">\n",
    "    <i class=\"task\">Homework 5.2:</i>\n",
    "        :::8 Hausaufgabenpunkte :::</div>\n",
    "\n",
    "Erstellen Sie eine Python-Implementierung basierend auf dem Code der Präsenzaufgabe, die auf der Deutschland-Tour eine Länge von 11.000 nicht überschreitet. \n",
    "Geben Sie ergänzend zum Code Ihre Lösung des TSP-Problems für die Deutschland-Karte als Reihenfolge der besuchten Knoten (siehe Variable tour) ab.<br>\n",
    "Hinweise:\n",
    "* Es dürfen keine externen Bibliotheken verwendet werden, die einen Solver direkt implementieren, jedoch Bibliotheken mit Hilfsfunktionen.\n",
    "* Mit dieser Aufgabe nehmen Sie zeitgleich auch an der Challenge teil.\n",
    "* Beachten Sie, dass wir für die Challenge auf unbekannten Daten testen werden. Vermeiden Sie daher Overfitting.\n",
    "\n",
    "*Create a Python implementation based on the code above that does not exceed 11,000 in length on the Germany tour. \n",
    "In addition to the code, enter your solution to the TSP problem for the Germany map as the order of the visited nodes (see Variable tour).*<br>\n",
    "Notes:\n",
    "* *No external libraries may be used that implement a solver directly, but libraries with auxiliary functions may be used.*\n",
    "* *With this task, you also take part in the challenge at the same time.*\n",
    "* *Note that we will test for the challenge on unknown data. Avoid overfitting.*\n"
   ]
  },
  {
   "cell_type": "markdown",
   "metadata": {},
   "source": [
    "<div class=\"task_description\">\n",
    "    <i class=\"task\">Homework 5.3:</i>\n",
    "        :::1 Extra-Klausurbonuspunkt :::</div>\n",
    "Ein Extra-Klausurbonuspunkt wird an die fünf bestplazierten Teams vergeben, Ziel ist es eine möglichst geringe Fahrtzeit zu erreichen. Die Endergebnisse werden in der Vorlesung sowie in einer Liste auf Moodle präsentiert."
   ]
  }
 ],
 "metadata": {
  "kernelspec": {
   "display_name": "Python 3",
   "language": "python",
   "name": "python3"
  },
  "language_info": {
   "codemirror_mode": {
    "name": "ipython",
    "version": 3
   },
   "file_extension": ".py",
   "mimetype": "text/x-python",
   "name": "python",
   "nbconvert_exporter": "python",
   "pygments_lexer": "ipython3",
   "version": "3.8.2"
  },
  "varInspector": {
   "cols": {
    "lenName": 16,
    "lenType": 16,
    "lenVar": 40
   },
   "kernels_config": {
    "python": {
     "delete_cmd_postfix": "",
     "delete_cmd_prefix": "del ",
     "library": "var_list.py",
     "varRefreshCmd": "print(var_dic_list())"
    },
    "r": {
     "delete_cmd_postfix": ") ",
     "delete_cmd_prefix": "rm(",
     "library": "var_list.r",
     "varRefreshCmd": "cat(var_dic_list()) "
    }
   },
   "types_to_exclude": [
    "module",
    "function",
    "builtin_function_or_method",
    "instance",
    "_Feature"
   ],
   "window_display": false
  }
 },
 "nbformat": 4,
 "nbformat_minor": 2
}

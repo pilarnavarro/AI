{
 "cells": [
  {
   "cell_type": "markdown",
   "metadata": {},
   "source": [
    "##### Inmaculada Marín Carballo\n",
    "\n",
    "Matrikel-Nr. 3086148\n",
    " \n",
    "##### Pilar Navarro Ramírez  \n",
    "\n",
    "Matrikel-Nr. 3086150"
   ]
  },
  {
   "cell_type": "markdown",
   "metadata": {},
   "source": [
    "# Hausübung"
   ]
  },
  {
   "cell_type": "markdown",
   "metadata": {},
   "source": [
    "<div class=\"task_description\">\n",
    "    <i class=\"task\">Homework 8.1:</i>\n",
    "        ::: 10 Hausaufgabenpunkte :::</div>\n",
    "\n",
    "\n",
    "\n",
    "1. Create a short dummy record (MyDataset.csv) with at least 20 instances on a topic of your choice. This should contain at least 2 features and a gold label. <br/> If you can't think of a topic you can choose one of the following:\n",
    "<br><br>\n",
    "    * *Favourite books (target: 1-5 star rating)*\n",
    "    * *TV series (target: genre)*\n",
    "    * *Jewellery (target: price)*\n",
    "<br><br>\n",
    "2. Use the data in the machine learning process. This includes: splitting data, selecting classifiers (justify your choice), classifying test data. \n",
    "<br><br>\n",
    "3. Evaluate the results. Give examples of at least 2 evaluation measures you have chosen and describe how well you think the results are and what could be improved. <br>\n",
    "\n",
    "*__NOTE!__ The following elements must be included in the submission:*<br>\n",
    "1. *data set*\n",
    "2. *code*\n",
    "3. *a brief report on the approach taken*\n",
    "4. *outputs such as evaluation measures*"
   ]
  },
  {
   "cell_type": "code",
   "execution_count": 100,
   "metadata": {},
   "outputs": [
    {
     "name": "stdout",
     "output_type": "stream",
     "text": [
      "Predicted classes:  ['gray' 'yellow' 'blue' 'white' 'green' 'blue' 'black' 'violet' 'blue'\n",
      " 'blue' 'yellow' 'white' 'red' 'gray' 'gray' 'gray' 'violet' 'white'\n",
      " 'white' 'white' 'orange' 'green' 'green' 'white' 'blue' 'blue' 'black'\n",
      " 'blue' 'green' 'black' 'blue' 'white' 'gray' 'violet' 'green']\n",
      "\n",
      "Original classes:  ['gray', 'yellow', 'blue', 'blue', 'green', 'blue', 'yellow', 'blue', 'blue', 'blue', 'green', 'white', 'red', 'gray', 'gray', 'gray', 'violet', 'white', 'white', 'white', 'red', 'green', 'green', 'yellow', 'blue', 'blue', 'black', 'blue', 'green', 'black', 'blue', 'blue', 'gray', 'purple', 'green']\n",
      "\n",
      "Evaluation metrics:\n",
      "\n",
      "              precision    recall  f1-score   support\n",
      "\n",
      "       black       0.67      1.00      0.80         2\n",
      "        blue       1.00      0.73      0.84        11\n",
      "        gray       1.00      1.00      1.00         5\n",
      "       green       1.00      0.83      0.91         6\n",
      "      orange       0.00      0.00      0.00         0\n",
      "      purple       0.00      0.00      0.00         1\n",
      "         red       1.00      0.50      0.67         2\n",
      "      violet       0.33      1.00      0.50         1\n",
      "       white       0.57      1.00      0.73         4\n",
      "      yellow       0.50      0.33      0.40         3\n",
      "\n",
      "    accuracy                           0.77        35\n",
      "   macro avg       0.61      0.64      0.58        35\n",
      "weighted avg       0.84      0.77      0.78        35\n",
      "\n",
      "Accuracy of the classifier:  0.7714285714285715\n",
      "\n",
      "Confusion matrix:\n",
      " [[2 0 0 0 0 0 0 0 0 0]\n",
      " [0 8 0 0 0 0 0 1 2 0]\n",
      " [0 0 5 0 0 0 0 0 0 0]\n",
      " [0 0 0 5 0 0 0 0 0 1]\n",
      " [0 0 0 0 0 0 0 0 0 0]\n",
      " [0 0 0 0 0 0 0 1 0 0]\n",
      " [0 0 0 0 1 0 1 0 0 0]\n",
      " [0 0 0 0 0 0 0 1 0 0]\n",
      " [0 0 0 0 0 0 0 0 4 0]\n",
      " [1 0 0 0 0 0 0 0 1 1]]\n"
     ]
    },
    {
     "name": "stderr",
     "output_type": "stream",
     "text": [
      "/usr/local/lib/python3.5/dist-packages/sklearn/metrics/classification.py:1437: UndefinedMetricWarning: Precision and F-score are ill-defined and being set to 0.0 in labels with no predicted samples.\n",
      "  'precision', 'predicted', average, warn_for)\n",
      "/usr/local/lib/python3.5/dist-packages/sklearn/metrics/classification.py:1439: UndefinedMetricWarning: Recall and F-score are ill-defined and being set to 0.0 in labels with no true samples.\n",
      "  'recall', 'true', average, warn_for)\n"
     ]
    }
   ],
   "source": [
    "import numpy as np\n",
    "import pandas as pd\n",
    "from sklearn.utils import shuffle\n",
    "from sklearn.svm import SVC\n",
    "from sklearn import metrics\n",
    "from sklearn.metrics import accuracy_score\n",
    "\n",
    "#Load the data from the csv file and shuffle the data so that it is not ordered\n",
    "data = pd.read_csv('MyDataset.csv')\n",
    "data = shuffle(data)\n",
    "data.reset_index(inplace=True, drop=True) \n",
    "\n",
    "#Split the dataset in training and test set\n",
    "split=int(len(data)*0.75)\n",
    "x_train, y_train = data[['R','G','B']][:split], data.Color[:split]\n",
    "x_test, y_test = data[['R','G','B']][split:], data.Color[split:]\n",
    "\n",
    "#Use 'support vector machine' as classifier\n",
    "clf=SVC(kernel=\"linear\", C=0.002)\n",
    "#Train the classifier with the training data\n",
    "clf.fit(x_train, y_train)\n",
    "# Predict the outcome on the testing set\n",
    "y_predicted = clf.predict(x_test)\n",
    "\n",
    "#Print predicted classes of the testing set and its actual classes\n",
    "print(\"Predicted classes: \", y_predicted)\n",
    "print(\"\\nOriginal classes: \", list(y_test))\n",
    "\n",
    "#Print the classification report\n",
    "print(\"\\nEvaluation metrics:\\n\")\n",
    "print(metrics.classification_report(y_test, y_predicted))\n",
    "print(\"Accuracy of the classifier: \", accuracy_score(y_test, y_predicted))\n",
    "# Plot the confusion matrix\n",
    "cm = metrics.confusion_matrix(y_test, y_predicted)\n",
    "print(\"\\nConfusion matrix:\\n\",cm)\n",
    "\n",
    "#sns.pairplot(data, hue=\"Color\", palette=\"husl\")\n"
   ]
  },
  {
   "cell_type": "markdown",
   "metadata": {},
   "source": [
    "### Report\n",
    "\n",
    "Our dataset consists of a list of colors and their r,g,b values. The colors are the gold labels and the rgb values the three features. As the data is more or less organized in the file (all the colors of the same class appear, almost in all cases, together in the file), we shuffle the rows before using the data, so that the training set and testing set are representative.\n",
    "\n",
    "As classifier we chose support vector machine, since it is a robust classifier that deals well with the noise and avoids overfitting using a soft margin. Here we have that the classes overlap with each other in most cases, so it is good to use a soft margin approach (we selected a low value of the 'C' parameter of SVC) to let a margin of error in the classification and avoid overfitting. Also the kernel function is linear, since with a non-linear function it may overfit to the training data. In short, the SVM is appropiate in this case to avoid overfitting and deal with the noise. \n",
    "\n",
    "However, we see in the confusion matrix and evaluation measures that the results are not correct in all cases. The system is not so accurate, we only got 77% of accuracy. To improve it we could just increase the training data and the dataset in general, since here we have few examples.\n"
   ]
  }
 ],
 "metadata": {
  "kernelspec": {
   "display_name": "Python 3",
   "language": "python",
   "name": "python3"
  },
  "language_info": {
   "codemirror_mode": {
    "name": "ipython",
    "version": 3
   },
   "file_extension": ".py",
   "mimetype": "text/x-python",
   "name": "python",
   "nbconvert_exporter": "python",
   "pygments_lexer": "ipython3",
   "version": "3.5.2"
  }
 },
 "nbformat": 4,
 "nbformat_minor": 2
}

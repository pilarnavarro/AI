{
 "cells": [
  {
   "cell_type": "code",
   "execution_count": 1,
   "metadata": {},
   "outputs": [
    {
     "data": {
      "text/html": [
       "<style>/* Style des gesamten Dokuments */\n",
       "#notebook-container {\n",
       "\tfont-family: \"NimbusMonL-ReguObli\";\n",
       "\tfont-size: 120%\n",
       "}\n",
       "\n",
       "/* Style für die Überschrift: Zentriert diese und stellt sie fett dar. */\n",
       ".headline {\n",
       "\ttext-align: center;\n",
       "\tfont-weight: bold;\n",
       "\tfont-size: 185.7%\n",
       "}\n",
       "\n",
       "/* Style für die Aufgabenbeschreibung. Z.B.: \"Übung zum Thema...\" */\n",
       ".description {\n",
       "\ttext-align: center;\n",
       "\tfont-size: 145.7%\n",
       "}\n",
       "\n",
       "/* Hebt das Abgabedatum fett und kursiv hervor */\n",
       "#submission {\n",
       "\tfont-weight: bold;\n",
       "}\n",
       "\n",
       "/* Style für das eigentliche Thema. Z.B.: \"Intelligenz\" */\n",
       "#topic {\n",
       "\tfont-style: italic;\n",
       "}\n",
       "\n",
       ".task_description {\n",
       "\n",
       "}\n",
       "\n",
       "/* Hebt die Aufgabennummerierung fett hervor. */\n",
       ".task {\n",
       "\tfont-style: normal;\n",
       "\tfont-weight: bold;\n",
       "}\n",
       "\n",
       ".points {\n",
       "\tfont-style: italic;\n",
       "}\n",
       "\n",
       "ol.lower_roman {\n",
       "    list-style-type: lower-roman;\n",
       "}\n",
       "\n",
       "ol.characters {\n",
       "    list-style-type: lower-alpha;\n",
       "}\n",
       "\n",
       "/* Style einer Code-Cell */\n",
       ".CodeMirror-code {\n",
       "\tbackground-color: #ededed\n",
       "}\n",
       "\n",
       "/* Style eines Kommentars im Code ändern. */\n",
       ".cm-s-ipython span.cm-comment {\n",
       "\n",
       "}\n",
       "\n",
       ".cm-s-ipython span.cm-atom {\n",
       "\n",
       "}\n",
       "\n",
       ".cm-s-ipython span.cm-number {\n",
       "\n",
       "}\n",
       "\n",
       "/* Style eines Python-Keywords ändern */\n",
       ".cm-s-ipython span.cm-keyword {\n",
       "\tcolor: #B000B0\n",
       "}\n",
       "\n",
       ".cm-s-ipython span.cm-def {\n",
       "\n",
       "}\n",
       "\n",
       "/* Style einer Python-Variable ändern */\n",
       ".cm-s-ipython span.cm-variable {\n",
       "\t\n",
       "}\n",
       "\n",
       "/* Style einer Property ändern */\n",
       ".cm-s-ipython span.cm-property {\n",
       "\t\n",
       "}\n",
       "\n",
       "/* Style eines Python-Operators ändern */\n",
       ".cm-s-ipython span.cm-operator {\n",
       "\t\n",
       "}\n",
       "\n",
       "/* Style eines Python-Strings ändern */\n",
       ".cm-s-ipython span.cm-string {\n",
       "\tcolor: brown;\n",
       "}\n",
       "\n",
       "/* Style einer eingebauten Funktion ändern (z.B. \"open\") */\n",
       ".cm-s-ipython span.cm-builtin {\n",
       "\t\n",
       "}\n",
       "\n",
       "/* Hebt hervor, welche Klammern zueinander passen */\n",
       ".cm-s-ipython .CodeMirror-matchingbracket {\n",
       "\t\n",
       "}\n",
       "\n",
       ".cm-s-ipython span.cm-variable-2 {\n",
       "\n",
       "}\n",
       "</style>"
      ],
      "text/plain": [
       "<IPython.core.display.HTML object>"
      ]
     },
     "execution_count": 1,
     "metadata": {},
     "output_type": "execute_result"
    }
   ],
   "source": [
    "from IPython.core.display import HTML\n",
    "\n",
    "HTML(\"<style>\" + open(\"style.css\").read() + \"</style>\")"
   ]
  },
  {
   "cell_type": "markdown",
   "metadata": {},
   "source": [
    "<div class=\"headline\">\n",
    "Grundlagen künstlicher Intelligenz\n",
    "<br><br>\n",
    "Sommersemester 2019\n",
    "</div>\n",
    "<br>\n",
    "<div class=\"description\">\n",
    "    Übung zum Thema <i id=\"topic\">\"Informierte Suche\"</i>\n",
    "    <br><br>\n",
    "    Deadline Abgabe: <i #id=\"submission\">Freitag, 24.5.2019 (23:55 Uhr)</i>\n",
    "</div>"
   ]
  },
  {
   "cell_type": "markdown",
   "metadata": {},
   "source": [
    "## Präsenzübung"
   ]
  },
  {
   "cell_type": "markdown",
   "metadata": {},
   "source": [
    "<div class=\"task_description\">\n",
    "    <i class=\"task\">Task 4.1:</i>\n",
    "</div>    \n",
    "Finden Sie anhand der Karte Rumäniens den Weg von **Arad** nach **Bucharest**. Verwenden\n",
    "Sie **Greedy Best First Search**.\n",
    "\n",
    "*Find the way from **Arad** to **Bucharest** by reference to the map of Romania. Use **Greedy Best First Search**.*\n",
    "   \n",
    "![Karte Rumaenien](img/exercise4/Karte_Romania_Heuristik.png)"
   ]
  },
  {
   "cell_type": "markdown",
   "metadata": {},
   "source": [
    "<div class=\"task_description\">\n",
    "    <i class=\"task\">Task 4.2:</i>\n",
    "</div>    \n",
    "Finden Sie anhand der Karte Rumäniens den Weg von Arad nach Bucharest. Verwenden Sie **A<sup>∗</sup>** Search.\n",
    "\n",
    "*Find the way from **Arad** to **Bucharest** by reference to the map of Romania. Use **A<sup>∗</sup>** Search.*\n"
   ]
  },
  {
   "cell_type": "markdown",
   "metadata": {},
   "source": [
    "<div class=\"task_description\">\n",
    "    <i class=\"task\">Task 4.3:</i>\n",
    "</div>\n",
    "Gegeben sei ein 8-Puzzle:\n",
    "\n",
    "![8_Puzzle](img/exercise4/8_puzzle.png)\n",
    "    \n",
    "Geben Sie an, welche Knoten unter Verwendung der **A<sup>∗</sup>-Suche** expandiert werden. Verwenden Sie die **Manhattan-Distanz** als Heuristik.\n",
    "\n",
    "*Given the above 8 puzzle, indicate which nodes are expanded using the **A<sup>∗</sup>Search**. Use the **Manhattan Distance** as a heuristic.*\n",
    "\n"
   ]
  },
  {
   "cell_type": "markdown",
   "metadata": {},
   "source": [
    "<div class=\"task_description\">\n",
    "    <i class=\"task\">Task 4.4:</i>\n",
    "</div>\n",
    "Welche der folgenden Funktionen implementiert die Manhattan Distanz und welche die Euklidische Distanz? Erläutern Sie woran Sie dies erkennen können.\n",
    "    \n",
    "*Which of the following functions implements the Manhattan Distance and which the Euclidean Distance? Explain where you can see this.*\n",
    "\n"
   ]
  },
  {
   "cell_type": "code",
   "execution_count": null,
   "metadata": {},
   "outputs": [],
   "source": [
    "import math\n",
    "\n",
    "def dist1(v1, v2):\n",
    "    sum_diff = 0\n",
    "    for i in range(0, len(v1)):\n",
    "        sum_diff += (v1[i] - v2[i])**2\n",
    "\n",
    "    return math.sqrt(sum_diff)\n",
    "\n",
    "def dist2(v1, v2):\n",
    "    sum_diff = 0\n",
    "    for i in range(0, len(v1)):\n",
    "        sum_diff += abs(v1[i] - v2[i])\n",
    "\n",
    "    return sum_diff"
   ]
  },
  {
   "cell_type": "markdown",
   "metadata": {},
   "source": [
    "<div class=\"task_description\">\n",
    "    <i class=\"task\">Task 4.5:</i>\n",
    "</div>\n",
    "Adaptieren Sie die Funktion `dist1(v1, v2)` in zwei Varianten:\n",
    " * a) nutzen Sie eine list comprehension\n",
    " * b) nutzen Sie die `zip()` Funktion.\n",
    "    \n",
    "*Adapt the function `dist1(v1, v2)` in two variants:*\n",
    " * *a) use a list comprehension*\n",
    " * *b) use the `zip()` function.*\n",
    " "
   ]
  },
  {
   "cell_type": "code",
   "execution_count": null,
   "metadata": {},
   "outputs": [],
   "source": [
    "def dist1(v1, v2):\n",
    "    sum_diff = 0\n",
    "    for i in range(0, len(v1)):\n",
    "        sum_diff += (v1[i] - v2[i])**2\n",
    "\n",
    "    return math.sqrt(sum_diff)\n",
    "\n"
   ]
  },
  {
   "cell_type": "markdown",
   "metadata": {},
   "source": [
    "<div class=\"task_description\">\n",
    "    <i class=\"task\">Task 4.6:</i>\n",
    "Formale Überlegungen:\n",
    "</div>\n",
    "    \n",
    "__a)__ Zeigen Sie, dass die Heuristiken $h_{MIS}$ und $h_{MAN}$ aus der Vorlesung für das 8-Puzzle konsistent (consistent) sind.\n",
    "    \n",
    "*Show that the heuristics $h_{MIS}$ and $h_{MAN}$ are consistent for the 8 puzzle.*"
   ]
  },
  {
   "cell_type": "markdown",
   "metadata": {},
   "source": [
    "__b)__ Zeigen Sie, dass die Kombination zweier zulässiger (admissible) Heuristiken mittels max wieder zulässig (admissible) ist.\n",
    "\n",
    "*Show that the combination of two admissible heuristics through max is admissible again.*"
   ]
  },
  {
   "cell_type": "markdown",
   "metadata": {},
   "source": [
    "__c)__ Eine Heuristik die immer 0 zurückliefert ist offensichtlich admissible, da sie die wahren Kosten niemals überschätzt (besonders nütztlich scheint sie jedoch nicht zu sein). Welchem Ihnen bereits bekannten Suchverfahren entspricht A<sup>∗</sup> mit dieser Heuristik?\n",
    "\n",
    "*A heuristic that always returns 0 is obviously admissible because it never overestimates the true costs (but it does not seem to be particularly useful). Which search method you already know corresponds to A<sup>∗</sup> with this heuristic?*"
   ]
  },
  {
   "cell_type": "markdown",
   "metadata": {},
   "source": [
    "# Hausübung"
   ]
  },
  {
   "cell_type": "markdown",
   "metadata": {},
   "source": [
    "<div class=\"task_description\">\n",
    "    <i class=\"task\">Homework 4.1:</i>\n",
    "        :::4 Hausaufgabenpunkte :::</div>\n",
    "        \n",
    "Bestimmen Sie den Weg von Mannheim nach Ulm. Als Kosten dienen die Distanzen auf der Karte und\n",
    "als Heuristik die Luftliniendistanz (SLD).<br>\n",
    "\n",
    "1. Verwenden Sie Greedy Best First Search,\n",
    "2. Verwenden Sie A<sup>∗</sup> Search.\n",
    "\n",
    "Notieren Sie die Reihenfolge, in der die Knoten expandiert werden.\n",
    "\n",
    "*Determine the way from Mannheim to Ulm. The costs are the distances on the map and the heuristic the airline distance (SLD).*\n",
    "\n",
    "1. *Use Greedy Best First Search,*\n",
    "2. *Use A<sup>∗</sup> Search.*\n",
    "\n",
    "*Note the order in which the nodes are expanded.*"
   ]
  },
  {
   "cell_type": "markdown",
   "metadata": {},
   "source": [
    "![Karte Rumaenien](img/exercise4/Karte_Sueddeutschland.png)"
   ]
  },
  {
   "cell_type": "markdown",
   "metadata": {},
   "source": [
    "<div class=\"task_description\">\n",
    "    <i class=\"task\">Homework 4.2:</i>\n",
    "        :::1 Hausaufgabenpunkt :::</div>\n",
    "        \n",
    "Verwenden Sie Greedy Best First Search um den Weg von Innsbruck nach Ulm zu bestimmen. Als Heuristik dient die\n",
    "Luftliniendistanz (SLD) auf der Karte. Notieren Sie die Reihenfolge, in der die Knoten expandiert\n",
    "werden.\n",
    "\n",
    "*Use Greedy Best First Search to determine the route from Innsbruck to Ulm. Heuristic is the airline distance (SLD) on the map. Note the order in which the nodes are expanded.*"
   ]
  },
  {
   "cell_type": "markdown",
   "metadata": {},
   "source": [
    "<div class=\"task_description\">\n",
    "    <i class=\"task\">Homework 3.2:</i>\n",
    "        :::5 Hausaufgabenpunkte :::</div>\n",
    "        \n",
    "Verwenden Sie A* Search um den Weg von Linz nach Ulm zu bestimmen.<br>\n",
    "Als Kosten dienen die Distanzen auf der Karte und als Heuristik die Luftliniendistanz (SLD).<br>\n",
    "ACHTUNG: Auf der Strecke von München nach Ulm ist ein Gurkenlaster umgekippt. Die Strecke musste gesperrt\n",
    "werden und kann somit in beide Richtungen nicht befahren werden!<br><br>\n",
    "Notieren Sie die Reihenfolge, in der die Knoten expandiert werden und geben Sie jeweils den Wert der Evaluationsfunktion an.\n",
    "<br>(f(n) = g(n) + h(n)).\n",
    "\n",
    "\n",
    "*Use A<sup>∗</sup> Search to determine the route from Linz to Ulm. The costs are the distances on the map and heuristicis  the airline distance (SLD).<br>\n",
    "ATTENTION: On the way from Munich to Ulm a cucumber truck has been overturned. The track had to be blocked\n",
    "and can not be used in both directions! <br> <br>\n",
    "Note the order in which the nodes are expanded and specify the value of the evaluation function.*\n",
    "<br>(f(n) = g(n) + h(n))."
   ]
  },
  {
   "cell_type": "code",
   "execution_count": null,
   "metadata": {},
   "outputs": [],
   "source": []
  }
 ],
 "metadata": {
  "kernelspec": {
   "display_name": "Python 3",
   "language": "python",
   "name": "python3"
  },
  "language_info": {
   "codemirror_mode": {
    "name": "ipython",
    "version": 3
   },
   "file_extension": ".py",
   "mimetype": "text/x-python",
   "name": "python",
   "nbconvert_exporter": "python",
   "pygments_lexer": "ipython3",
   "version": "3.8.2"
  },
  "varInspector": {
   "cols": {
    "lenName": 16,
    "lenType": 16,
    "lenVar": 40
   },
   "kernels_config": {
    "python": {
     "delete_cmd_postfix": "",
     "delete_cmd_prefix": "del ",
     "library": "var_list.py",
     "varRefreshCmd": "print(var_dic_list())"
    },
    "r": {
     "delete_cmd_postfix": ") ",
     "delete_cmd_prefix": "rm(",
     "library": "var_list.r",
     "varRefreshCmd": "cat(var_dic_list()) "
    }
   },
   "types_to_exclude": [
    "module",
    "function",
    "builtin_function_or_method",
    "instance",
    "_Feature"
   ],
   "window_display": false
  }
 },
 "nbformat": 4,
 "nbformat_minor": 2
}

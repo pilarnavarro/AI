{
 "cells": [
  {
   "cell_type": "code",
   "execution_count": 1,
   "metadata": {},
   "outputs": [
    {
     "data": {
      "text/html": [
       "<style>/* Style des gesamten Dokuments */\n",
       "#notebook-container {\n",
       "\tfont-family: \"NimbusMonL-ReguObli\";\n",
       "\tfont-size: 120%\n",
       "}\n",
       "\n",
       "/* Style für die Überschrift: Zentriert diese und stellt sie fett dar. */\n",
       ".headline {\n",
       "\ttext-align: center;\n",
       "\tfont-weight: bold;\n",
       "\tfont-size: 185.7%\n",
       "}\n",
       "\n",
       "/* Style für die Aufgabenbeschreibung. Z.B.: \"Übung zum Thema...\" */\n",
       ".description {\n",
       "\ttext-align: center;\n",
       "\tfont-size: 145.7%\n",
       "}\n",
       "\n",
       "/* Hebt das Abgabedatum fett und kursiv hervor */\n",
       "#submission {\n",
       "\tfont-weight: bold;\n",
       "}\n",
       "\n",
       "/* Style für das eigentliche Thema. Z.B.: \"Intelligenz\" */\n",
       "#topic {\n",
       "\tfont-style: italic;\n",
       "}\n",
       "\n",
       ".task_description {\n",
       "\n",
       "}\n",
       "\n",
       "/* Hebt die Aufgabennummerierung fett hervor. */\n",
       ".task {\n",
       "\tfont-style: normal;\n",
       "\tfont-weight: bold;\n",
       "}\n",
       "\n",
       ".points {\n",
       "\tfont-style: italic;\n",
       "}\n",
       "\n",
       "ol.lower_roman {\n",
       "    list-style-type: lower-roman;\n",
       "}\n",
       "\n",
       "ol.characters {\n",
       "    list-style-type: lower-alpha;\n",
       "}\n",
       "\n",
       "/* Style einer Code-Cell */\n",
       ".CodeMirror-code {\n",
       "\tbackground-color: #ededed\n",
       "}\n",
       "\n",
       "/* Style eines Kommentars im Code ändern. */\n",
       ".cm-s-ipython span.cm-comment {\n",
       "\n",
       "}\n",
       "\n",
       ".cm-s-ipython span.cm-atom {\n",
       "\n",
       "}\n",
       "\n",
       ".cm-s-ipython span.cm-number {\n",
       "\n",
       "}\n",
       "\n",
       "/* Style eines Python-Keywords ändern */\n",
       ".cm-s-ipython span.cm-keyword {\n",
       "\tcolor: #B000B0\n",
       "}\n",
       "\n",
       ".cm-s-ipython span.cm-def {\n",
       "\n",
       "}\n",
       "\n",
       "/* Style einer Python-Variable ändern */\n",
       ".cm-s-ipython span.cm-variable {\n",
       "\t\n",
       "}\n",
       "\n",
       "/* Style einer Property ändern */\n",
       ".cm-s-ipython span.cm-property {\n",
       "\t\n",
       "}\n",
       "\n",
       "/* Style eines Python-Operators ändern */\n",
       ".cm-s-ipython span.cm-operator {\n",
       "\t\n",
       "}\n",
       "\n",
       "/* Style eines Python-Strings ändern */\n",
       ".cm-s-ipython span.cm-string {\n",
       "\tcolor: brown;\n",
       "}\n",
       "\n",
       "/* Style einer eingebauten Funktion ändern (z.B. \"open\") */\n",
       ".cm-s-ipython span.cm-builtin {\n",
       "\t\n",
       "}\n",
       "\n",
       "/* Hebt hervor, welche Klammern zueinander passen */\n",
       ".cm-s-ipython .CodeMirror-matchingbracket {\n",
       "\t\n",
       "}\n",
       "\n",
       ".cm-s-ipython span.cm-variable-2 {\n",
       "\n",
       "}\n",
       "</style>"
      ],
      "text/plain": [
       "<IPython.core.display.HTML object>"
      ]
     },
     "execution_count": 1,
     "metadata": {},
     "output_type": "execute_result"
    }
   ],
   "source": [
    "from IPython.core.display import HTML\n",
    "\n",
    "HTML(\"<style>\" + open(\"style.css\").read() + \"</style>\")"
   ]
  },
  {
   "cell_type": "markdown",
   "metadata": {},
   "source": [
    "<div class=\"headline\">\n",
    "Grundlagen künstlicher Intelligenz\n",
    "<br><br>\n",
    "Sommersemester 2019\n",
    "</div>\n",
    "<br>\n",
    "<div class=\"description\">\n",
    "    Übung zum Thema <i id=\"topic\">\"Uncertainty\"</i>\n",
    "    <br><br>\n",
    "    Deadline Abgabe: <i #id=\"submission\">Freitag, 14.6.2019 (23:55 Uhr)</i>\n",
    "</div>"
   ]
  },
  {
   "cell_type": "markdown",
   "metadata": {},
   "source": [
    "## Präsenzübung"
   ]
  },
  {
   "cell_type": "markdown",
   "metadata": {},
   "source": [
    "* https://github.com/norvig/pytudes/blob/master/ipynb/Probability.ipynb"
   ]
  },
  {
   "cell_type": "code",
   "execution_count": 2,
   "metadata": {},
   "outputs": [],
   "source": [
    "import itertools\n",
    "import random\n",
    "\n",
    "from math import factorial\n",
    "from fractions import Fraction\n",
    "\n",
    "def cross(A, B):\n",
    "    \"The set of ways of concatenating one item from collection A with one from B.\"\n",
    "    return {a + b \n",
    "            for a in A for b in B}\n",
    "\n",
    "def combos(items, n):\n",
    "    \"All combinations of n items; each combo as a concatenated str.\"\n",
    "    return {' '.join(combo) \n",
    "            for combo in itertools.combinations(items, n)}\n",
    "            \n",
    "def P(event, space): \n",
    "    \"The probability of an event, given a sample space of equiprobable outcomes.\"\n",
    "    return Fraction(len(event & space), \n",
    "                    len(space))\n",
    "\n",
    "def printProb(event, space):\n",
    "    prob = len(event & space) / len(space)\n",
    "    print(\"P: {:.5f}\".format(prob))\n",
    "\n",
    "def choose(n, c):\n",
    "    \"Number of ways to choose c items from a list of n items.\"\n",
    "    return factorial(n) // (factorial(n - c) * factorial(c))"
   ]
  },
  {
   "cell_type": "markdown",
   "metadata": {},
   "source": [
    "### Event Space"
   ]
  },
  {
   "cell_type": "markdown",
   "metadata": {},
   "source": [
    "<div class=\"task_description\">\n",
    "    <i class=\"task\">Task 6.1:</i>\n",
    "Eine Urne enthält 23 Bälle: 8 weiße, 6 blaue und 9 rote. Wir wählen sechs Bälle zufällig aus (jede Auswahl ist gleich wahrscheinlich). Schreiben Sie Python-Methoden für folgendes: <br><br>\n",
    "*An urn contains 23 balls: 8 white, 6 blue, and 9 red. We select six balls at random (each possible selection is equally likely). Write Python-methods for the following:*\n",
    "</div>    \n",
    "*Task 6.1.1:* Wie würde der Sample Space fomalisiert werden und was ist dessen Größe? <br>\n",
    "*How would the sample space be formalized and what is its size?*\n",
    "\n"
   ]
  },
  {
   "cell_type": "code",
   "execution_count": 3,
   "metadata": {},
   "outputs": [
    {
     "name": "stdout",
     "output_type": "stream",
     "text": [
      "{'W2', 'R3', 'W5', 'R8', 'R4', 'W4', 'B3', 'W8', 'R2', 'R7', 'W6', 'B4', 'R9', 'W7', 'B6', 'R6', 'W1', 'R1', 'B1', 'B2', 'R5', 'B5', 'W3'}\n",
      "Balls in the urn  23\n"
     ]
    }
   ],
   "source": [
    "urn=cross(\"W\",\"12345678\") | cross(\"B\",\"123456\") | cross(\"R\",\"123456789\") \n",
    "print(urn)\n",
    "print(\"Balls in the urn \",len(urn))"
   ]
  },
  {
   "cell_type": "code",
   "execution_count": 4,
   "metadata": {},
   "outputs": [
    {
     "name": "stdout",
     "output_type": "stream",
     "text": [
      "Sample space size  100947\n",
      "R3 R8 B3 B4 R6 B1\n",
      "W8 R7 W6 R6 B5 W3\n",
      "R3 R8 B4 W7 W1 B2\n"
     ]
    }
   ],
   "source": [
    "sample=combos(urn,6)\n",
    "print(\"Sample space size \",len(sample))\n",
    "print(*random.sample(sample,3),sep=\"\\n\")"
   ]
  },
  {
   "cell_type": "markdown",
   "metadata": {},
   "source": [
    "*Task 6.1.2:* Wie viele Möglichkeiten gibt es, sechs rote Bälle zu ziehen? <br>\n",
    "*How many ways of getting 6 red balls are there?*"
   ]
  },
  {
   "cell_type": "code",
   "execution_count": 5,
   "metadata": {},
   "outputs": [
    {
     "name": "stdout",
     "output_type": "stream",
     "text": [
      "R3 R2 R7 R6 R1 R5\n",
      "R3 R2 R9 R6 R1 R5\n",
      "R3 R8 R4 R2 R1 R5\n",
      "How many possibilities are there?\n",
      "84\n"
     ]
    }
   ],
   "source": [
    "red6={s for s in sample if s.count(\"R\")== 6}\n",
    "print(*random.sample(red6,3),sep=\"\\n\")\n",
    "print(\"How many possibilities are there?\")\n",
    "print(len(red6))"
   ]
  },
  {
   "cell_type": "markdown",
   "metadata": {},
   "source": [
    "Wie ist die Wahrscheinlichkeit jeder dieser Möglichen Ergebnisse? <br>\n",
    "*What is the probability of each of these possible outcomes:* <br><br>\n",
    "*Task 6.1.3:* Wahrscheinlichkeit, dass alle Bälle rot sind <br>*Probability of all balls being red*"
   ]
  },
  {
   "cell_type": "code",
   "execution_count": 6,
   "metadata": {},
   "outputs": [
    {
     "name": "stdout",
     "output_type": "stream",
     "text": [
      "4/4807\n"
     ]
    }
   ],
   "source": [
    "print(P(red6,sample))"
   ]
  },
  {
   "cell_type": "markdown",
   "metadata": {},
   "source": [
    "*Task 6.1.4:* Wahrscheinlichkeit drei blauer, zwei weißer und eines roten Balls <br>\n",
    "*Probability of 3 blue, 2 white, and 1 red ball*"
   ]
  },
  {
   "cell_type": "code",
   "execution_count": 7,
   "metadata": {},
   "outputs": [
    {
     "name": "stdout",
     "output_type": "stream",
     "text": [
      "W5 R4 B3 B4 W1 B2\n",
      "W2 W4 R7 B4 B6 B5\n",
      "R3 W5 B3 W8 B4 B2\n"
     ]
    }
   ],
   "source": [
    "b3w2r1 = {s for s in sample if s.count(\"B\") == 3 and s.count(\"W\") == 2 and s.count(\"R\") == 1}\n",
    "print(*random.sample(b3w2r1,3),sep=\"\\n\")"
   ]
  },
  {
   "cell_type": "code",
   "execution_count": 8,
   "metadata": {},
   "outputs": [
    {
     "name": "stdout",
     "output_type": "stream",
     "text": [
      "240/4807\n"
     ]
    }
   ],
   "source": [
    "print(P(b3w2r1,sample))"
   ]
  },
  {
   "cell_type": "markdown",
   "metadata": {},
   "source": [
    "*Task 6.1.5:* Wahrscheinlichkeit von mindestens vier weißen Bällen <br>\n",
    "*Probability of at least 4 white balls*"
   ]
  },
  {
   "cell_type": "code",
   "execution_count": 9,
   "metadata": {},
   "outputs": [
    {
     "name": "stdout",
     "output_type": "stream",
     "text": [
      "W5 W4 W8 R2 W6 B5\n",
      "W8 W7 B6 W1 B5 W3\n",
      "W2 W4 R6 W1 B2 W3\n"
     ]
    }
   ],
   "source": [
    "atLeast4W = {s for s in sample if s.count(\"W\") >=4 }\n",
    "print(*random.sample(atLeast4W,3),sep=\"\\n\")"
   ]
  },
  {
   "cell_type": "raw",
   "metadata": {},
   "source": []
  },
  {
   "cell_type": "code",
   "execution_count": 11,
   "metadata": {},
   "outputs": [
    {
     "name": "stdout",
     "output_type": "stream",
     "text": [
      "333/4807\n",
      "P: 0.06927\n"
     ]
    }
   ],
   "source": [
    "print(P(atLeast4W,sample))\n",
    "printProb(atLeast4W,sample)"
   ]
  },
  {
   "cell_type": "markdown",
   "metadata": {},
   "source": [
    "<div class=\"task_description\">\n",
    "    <i class=\"task\">Task 6.2:</i>\n",
    "    Das Beispiel aus der Vorlesung mit 5 Würfeln: <br>*Lecture example with 5 dice*\n",
    "</div> "
   ]
  },
  {
   "cell_type": "code",
   "execution_count": 10,
   "metadata": {
    "scrolled": true
   },
   "outputs": [
    {
     "name": "stdout",
     "output_type": "stream",
     "text": [
      "52451\n",
      "16631\n",
      "61244\n",
      "7776\n",
      "1801/2592\n",
      "P: 0.69483\n"
     ]
    }
   ],
   "source": [
    "D = {\"1\", \"2\", \"3\", \"4\", \"5\", \"6\"}\n",
    "five_dice = cross(cross(cross(cross(D, D), D), D), D)\n",
    "print(*random.sample(five_dice,3),sep=\"\\n\")\n",
    "print(len(five_dice))\n",
    "\n",
    "sumGreater15 = {roll for roll in five_dice if sum(int(dice) for dice in roll) > 15}\n",
    "\n",
    "print(P(sumGreater15, five_dice))\n",
    "printProb(sumGreater15, five_dice)"
   ]
  },
  {
   "cell_type": "markdown",
   "metadata": {},
   "source": [
    "<div class=\"task_description\">\n",
    "    <i class=\"task\">Task 6.3:</i>\n",
    "Anna und Otto würfeln jeweils ein Mal mit zwei Würfeln. Anna sagt: „Dass ich mindestens auf einem Würfel\n",
    "eine 4 habe ist wahrscheinlicher als dass du eine Summe von 9 oder höher würfelst.\"<br>\n",
    "Hat Anna Recht?<br><br>\n",
    "*Anna and Otto both dice once with two dice. Anna says: \"That I have a 4 on at least one die is more likely than you dicing a sum of 9 or higher.\"<br>\n",
    "Is Anna right?*<br>\n",
    "</div>\n",
    "\n",
    "*Task 6.3.1:* Definieren Sie zuerst den Sample Space. (*Define the sample space first*)"
   ]
  },
  {
   "cell_type": "code",
   "execution_count": 11,
   "metadata": {},
   "outputs": [
    {
     "name": "stdout",
     "output_type": "stream",
     "text": [
      "{'12', '31', '56', '15', '24', '21', '54', '44', '33', '16', '32', '41', '64', '45', '52', '14', '65', '42', '43', '36', '34', '53', '35', '23', '62', '25', '13', '55', '11', '66', '22', '63', '51', '61', '26', '46'}\n"
     ]
    }
   ],
   "source": [
    "sample= cross(D,D)\n",
    "print(sample)"
   ]
  },
  {
   "cell_type": "markdown",
   "metadata": {},
   "source": [
    "*Task 6.3.2:* Definieren Sie nun den Event Space für beide Ereignisse. (*Now define the event space for both events*)<br>"
   ]
  },
  {
   "cell_type": "code",
   "execution_count": 12,
   "metadata": {},
   "outputs": [
    {
     "name": "stdout",
     "output_type": "stream",
     "text": [
      "66\n",
      "65\n",
      "63\n",
      "At least one 4:  11/36\n",
      "Sum greater than 9:  5/18\n"
     ]
    }
   ],
   "source": [
    "atLeastOne4={s for s in sample if s.count(\"4\") >= 1}\n",
    "sumGreater9={roll for roll in sample if sum(int(dice) for dice in roll) >=9}\n",
    "print(*random.sample(sumGreater9,3),sep=\"\\n\")\n",
    "\n",
    "print(\"At least one 4: \", P(atLeastOne4, sample))\n",
    "print(\"Sum greater than 9: \", P(sumGreater9,sample))"
   ]
  },
  {
   "cell_type": "markdown",
   "metadata": {},
   "source": [
    "*Task 6.3.3:* Schreiben Sie Python-Code für folgende Problemstellung: Nun soll dreimal gewürfelt werden. Ist die Wahrscheinlichkeit dass Anna genau eine drei und mindestens eine fünf würfelt größer als dass Otto eine Summe von 9 würfelt? Gehen Sie schrittweise vor. Definieren Sie zunächst, wie Sie den Sample Space repräsentieren wollen. Entwickeln Sie nun Methoden, um den Event Space zu erfassen. <br><br>\n",
    "*Write Python-methods for the following problem: Now the dice should roll three times. Is the probability that Anna rolls exactly one three and a five at least once higher than the probabilty that Otto rolls a sum of 9? Proceed step by step. First, define how you want to represent the sample space. Now develop methods to capture the event space.*"
   ]
  },
  {
   "cell_type": "code",
   "execution_count": 15,
   "metadata": {},
   "outputs": [
    {
     "name": "stdout",
     "output_type": "stream",
     "text": [
      "One 3 and min one 5:  1/8\n",
      "P: 0.12500\n",
      "Sum equals 9:  25/216\n",
      "P: 0.11574\n"
     ]
    }
   ],
   "source": [
    "sample=cross(D,cross(D,D))\n",
    "\n",
    "threeAndFive={roll for roll in sample if roll.count(\"3\")==1 and roll.count(\"5\")>=1}\n",
    "sumEquals9={roll for roll in sample if sum(int(dice) for dice in roll)==9}\n",
    "print(\"One 3 and min one 5: \", P(threeAndFive,sample))\n",
    "printProb(threeAndFive,sample)\n",
    "\n",
    "print(\"Sum equals 9: \", P(sumEquals9,sample))\n",
    "printProb(sumEquals9,sample)"
   ]
  },
  {
   "cell_type": "markdown",
   "metadata": {},
   "source": [
    "*Task 6.3.4:* Nun wollen Anna und Otto nachdem sie jeweils zwei Mal gewürfelt haben noch zwei Mal eine Münze werfen und dann erneut zwei Würfel werfen. Nennen Sie drei Beispiele, die im Sample Space enthalten sind. <br>\n",
    "*Now Anna and Otto want to throw a coin twice after dicing twice, and then throw two more dice. Give three examples that are included in the sample space.*"
   ]
  },
  {
   "cell_type": "markdown",
   "metadata": {},
   "source": [
    "*Task 6.3.5:* Wie sähe im gleichen Schema jetzt der Event Space für „mindestens ein Mal Zahl“ aus? Irrelevante Stellen können als X bezeichnet werden. <br>*In the same scheme, what would the event space look like for \"at least once number\"? Irrelevant places can be called X.*"
   ]
  },
  {
   "cell_type": "markdown",
   "metadata": {},
   "source": [
    "<div class=\"task_description\">\n",
    "    <i class=\"task\">Task 6.4:</i>\n",
    "    \n",
    "Beim Spiel Schnick Schnack Schnuck wählen zwei Spieler je eins der drei möglichen Symbole Schere, Stein\n",
    "oder Papier und zeigen dieses dann auf ein Kommando gleichzeitig mit ihrer Hand an. Das Ergebnis wird wie folgt\n",
    "bewertet: Die Schere schneidet das Papier (Schere gewinnt), das Papier wickelt den Stein ein (Papier gewinnt), und der Stein macht die Schere stumpf (Stein gewinnt). Entscheiden sich beide Spieler für dasselbe Symbol, wird das Spiel als unentschieden gewertet und wiederholt. <br><br>\n",
    "*In the game rock-paper-scissors two players each choose one of the three possible symbols scissors, stone\n",
    "and paper and then, on a command, simultaneously display it with their hand. The result will be rated as follows: The scissors cut the paper (scissors win), the paper wraps the stone (paper wins), and the stone makes the scissors dull (stone wins). If both players decide for the same symbol, the game is counted as a tie and repeated.*</div>\n",
    "\n",
    "*Task 6.4.1:* Bestimmen Sie den Sample Space für Schnick Schnack Schnuck. <br>\n",
    "*Determine the sample space for rock-paper-scissors.*"
   ]
  },
  {
   "cell_type": "code",
   "execution_count": 17,
   "metadata": {},
   "outputs": [
    {
     "name": "stdout",
     "output_type": "stream",
     "text": [
      "{'rr', 'sr', 'pr', 'ps', 'sp', 'pp', 'ss', 'rs', 'rp'}\n"
     ]
    }
   ],
   "source": [
    "move={\"r\",\"p\",\"s\"}\n",
    "sample=cross(move,move)\n",
    "\n",
    "print(sample)"
   ]
  },
  {
   "cell_type": "markdown",
   "metadata": {},
   "source": [
    "*Task 6.4.2:* Wie hoch ist die Wahrscheinlichkeit zu gewinnen wenn ich (Spieler 1) Stein wähle? <br>\n",
    "*What is the probability of winning if I (player 1) choose stone?*"
   ]
  },
  {
   "cell_type": "code",
   "execution_count": 18,
   "metadata": {},
   "outputs": [
    {
     "name": "stdout",
     "output_type": "stream",
     "text": [
      "1/3\n"
     ]
    }
   ],
   "source": [
    "stoneMoves={move for move in sample if move[0]==\"r\"}\n",
    "print(P({\"rs\"},stoneMoves)) #Sólo gano si saco piedra cuando el oponente saca tijeras"
   ]
  },
  {
   "cell_type": "markdown",
   "metadata": {},
   "source": [
    "*Task 6.4.3:* Wie hoch ist die Wahrscheinlichkeit nicht zu verlieren wenn ich Stein wähle? <br>\n",
    "*What is the probability of not losing when I choose stone?*"
   ]
  },
  {
   "cell_type": "code",
   "execution_count": 27,
   "metadata": {},
   "outputs": [
    {
     "name": "stdout",
     "output_type": "stream",
     "text": [
      "2/3\n"
     ]
    }
   ],
   "source": [
    "print(P({\"rr\",\"rs\"},stoneMoves))"
   ]
  },
  {
   "cell_type": "markdown",
   "metadata": {},
   "source": [
    "*Task 6.4.4:* Spielen Sie 15 Mal mit einem Partner und notieren Sie die Ergebnisse. Wie häufig werden die einzelnen Symbole gewählt?  <br>\n",
    "*Play with a partner 15 times and record the results. How often are the individual symbols chosen?*"
   ]
  },
  {
   "cell_type": "code",
   "execution_count": null,
   "metadata": {},
   "outputs": [],
   "source": []
  },
  {
   "cell_type": "markdown",
   "metadata": {},
   "source": [
    "*Task 6.4.5:* In offiziellen Statistiken bei Wettbewerben hat sich gezeigt, dass Schere mit einer Wahrscheinlichkeit von 0.296 gewählt wird. Wie hoch ist die Wahrscheinlichkeit für Schere in Ihrer Spielserie?<br><br>\n",
    "*In official statistics at competitions it has been shown that scissors are chosen with a probability of 0.296. What is the probability of scissors in your game series?*"
   ]
  },
  {
   "cell_type": "markdown",
   "metadata": {},
   "source": [
    "*Task 6.4.6:* In einer Variante gibt es noch das zusätzliche Symbol Brunnen. Brunnen verliert gegen Papier und gewinnt gegen Schere und Stein. Wie verändern sich dadurch die Gewinnwahrscheinlichkeiten? Mit welchem Symbol ist die Wahrscheinlichkeit zu verlieren höher? <br><br>\n",
    "*In one variant, there is the additional symbol well. Well loses against paper and wins against scissors and stone. How does this change the chances of winning? With which symbol is the probability of losing higher?*"
   ]
  },
  {
   "cell_type": "code",
   "execution_count": 20,
   "metadata": {},
   "outputs": [
    {
     "name": "stdout",
     "output_type": "stream",
     "text": [
      "{'ws', 'ww', 'rr', 'sr', 'pr', 'ps', 'sp', 'pp', 'wp', 'rs', 'ss', 'wr', 'rp', 'sw', 'pw', 'rw'}\n",
      "3/8\n",
      "1/8\n",
      "1/8\n",
      "1/16\n",
      "1/16\n"
     ]
    }
   ],
   "source": [
    "move_ext={\"r\",\"s\",\"p\",\"w\"}\n",
    "rpsw=cross(move_ext,move_ext)\n",
    "print(rpsw)\n",
    "\n",
    "print(P({'ws','pr','sp','rs','wr','pw'},rpsw)) #Probabilidad de ganar\n",
    "print(P({\"sw\",\"sr\"},rpsw))\n",
    "print(P({\"rw\",\"rp\"},rpsw)) #Con tijeras y roca la probabilidad de perder es mayor\n",
    "print(P({\"ps\"},rpsw))\n",
    "print(P({\"wp\"},rpsw))"
   ]
  },
  {
   "cell_type": "markdown",
   "metadata": {},
   "source": [
    "### Bedingte Wahrscheinlichkeit"
   ]
  },
  {
   "cell_type": "markdown",
   "metadata": {},
   "source": [
    "<div class=\"task_description\">\n",
    "    <i class=\"task\">Task 6.5:</i>\n",
    "In der Statistik-Vorlesung im letzten Semester gab es zwei Klausuren: eine Midtermklausur und eine am\n",
    "Ende des Semesters. 42% der Studentinnen und Studenten haben die Midtermklausur bestanden. 25% haben beide\n",
    "Klausuren bestanden. Wie viel Prozent von denen die die erste Klausur bestanden haben, haben ebenfalls die zweite\n",
    "bestanden?<br>\n",
    "*In the statistics lecture last semester, there were two exams: a midterm exam and one at the end of the semester. 42% of the students passed the midterm exam. 25% have passed both exams. What percentage of those who passed the first exam also passed the second?*\n",
    "</div>"
   ]
  },
  {
   "cell_type": "code",
   "execution_count": 18,
   "metadata": {},
   "outputs": [
    {
     "name": "stdout",
     "output_type": "stream",
     "text": [
      "0.5952380952380952\n"
     ]
    }
   ],
   "source": [
    "#P(A,B)=P(A)*P(B|A)\n",
    "p_a=0.42\n",
    "p_ab=0.25\n",
    "p_BcA=p_ab/p_a\n",
    "print(p_BcA)"
   ]
  },
  {
   "cell_type": "markdown",
   "metadata": {},
   "source": [
    "<div class=\"task_description\">\n",
    "    <i class=\"task\">Task 6.6:</i>\n",
    "    \n",
    "Ein HIV-Test gibt mit 98% ein positives Ergebnis zurück, wenn der Patient tatsächlich von HIV betroffen ist, während er mit 99% ein negatives Ergebnis liefert, wenn der Patient nicht von HIV betroffen ist. Nehmen wir an, Sie gehören zu einer Gruppe mit niedrigem Risiko und haben eine prior probability für eine HIV-Infektion von 0,1%. Sie erhalten ein positives Testergebnis. <br>\n",
    "Wie wahrscheinlich ist es, dass Sie HIV haben? <br><br>\n",
    "*An HIV test gives a positive result with probability 98% when the patient is indeed affected by HIV, while it\n",
    "gives a negative result with 99% probability when the patient is not affected by HIV. Let’s assume that you belong to a low-risk group and have a prior probability of getting infected with HIV of 0.1%. You receive a positive test result.<br>\n",
    "How likely is it that you have HIV?*\n",
    " </div>"
   ]
  },
  {
   "cell_type": "code",
   "execution_count": 21,
   "metadata": {},
   "outputs": [
    {
     "name": "stdout",
     "output_type": "stream",
     "text": [
      "0.08933454876937101\n"
     ]
    }
   ],
   "source": [
    "p_hiv=0.001\n",
    "p_nohiv=1-p_hiv\n",
    "\n",
    "p_pos_c_hiv=0.98\n",
    "p_neg_c_hiv=0.02\n",
    "\n",
    "p_pos_c_nohiv=0.99\n",
    "p_neg_c_nohiv=0.01\n",
    "\n",
    "p_pos=p_hiv*p_pos_c_hiv + p_nohiv * p_neg_c_nohiv\n",
    "p_hiv_c_pos = (p_hiv * p_pos_c_hiv) / p_pos\n",
    "print(p_hiv_c_pos) # creo que hay un error en algún sitio"
   ]
  },
  {
   "cell_type": "markdown",
   "metadata": {},
   "source": [
    "<div class=\"task_description\">\n",
    "    <i class=\"task\">Task 6.7:</i>\n",
    "\n",
    "Es werden zwei Runden Schnick Schnack Schnuck gespielt (Schere, Stein, Papier, Brunnen). \n",
    "</div>"
   ]
  },
  {
   "cell_type": "markdown",
   "metadata": {},
   "source": [
    "*Task 6.7.1:* Wie ist die Wahrscheinlichkeit, dass ich (Spieler1) beide Spiele gewinne?"
   ]
  },
  {
   "cell_type": "markdown",
   "metadata": {},
   "source": [
    "*Task 6.7.2:*\n",
    "Wie ist die Wahrscheinlichkeit, dass auch die zweite Runde zu gewinnen, wenn ich bereits die erste gewonnen habe?"
   ]
  },
  {
   "cell_type": "markdown",
   "metadata": {},
   "source": [
    "*Task 6.7.3:* Mit welcher Wahl von Symbolen gewinne ich am wahrscheinlichsten beide Runden?"
   ]
  },
  {
   "cell_type": "markdown",
   "metadata": {},
   "source": [
    "## Hausübung"
   ]
  },
  {
   "cell_type": "markdown",
   "metadata": {},
   "source": [
    "__Achtung:__ Wenn Sie nur die Wahrscheinlichkeiten angeben ohne den Code dazu, gibt es 0 Punkte.\n",
    "Wenn Sie nicht wissen, wie Sie anfangen sollen, gehen Sie am besten schrittweise vor: Versuchen Sie zunächst den\n",
    "Sample Space zu repräsentieren. Entwickeln Sie dann Methoden, die den Event Space ermitteln. Anhand von Sample\n",
    "Space und Event Space können Sie dann die Wahrscheinlichkeit berechnen.\n",
    "<br>\n",
    "*__Attention:__ If you only specify the probabilities without the code, you get 0 points.\n",
    "If you do not know how to get started, it is best to do it step by step: try to represent the sample space. Then develop methods that determine the event space. Based on sample space and event space you can then calculate the probability.*"
   ]
  },
  {
   "cell_type": "markdown",
   "metadata": {},
   "source": [
    "<div class=\"task_description\">\n",
    "    <i class=\"task\">Homework 6.1:</i>\n",
    "        ::: 2 Hausaufgabenpunkte :::</div>\n",
    "        \n",
    "Es gibt eine Variante von Schnick Schnack Schnuck, die durch die Serie Big Bang Theory bekannt geworden ist (siehe Abb. 2.). In dieser Variante gibt es 5 Symbole: Schere, Stein, Papier, Echse, Spock. Schere schneidet Papier, Papier bedeckt Stein, Stein zerquetscht Echse, Echse vergiftet Spock, Spock zertrümmert Schere, Schere köpft Echse, Echse frisst Papier, Papier widerlegt Spock, Spock verdampft Stein, und Stein macht die Schere stumpf. Diese Variante reduziert die Anzahl von Unentschieden."
   ]
  },
  {
   "cell_type": "markdown",
   "metadata": {},
   "source": [
    "*There is a variant of rock-paper-scissors, which has become known through the series Big Bang Theory (see Fig. 2.). In this variant there are 5 symbols: scissors, stone, paper, lizard, spock.\n",
    "Scissors cuts paper, paper covers rock, rock crushes lizard, lizard poisons spock, spock smashes scissors, scissors decapitates lizard, lizard eats paper, paper disproves Spock, spock vaporizes rock and rock crushes scissors.*"
   ]
  },
  {
   "cell_type": "markdown",
   "metadata": {},
   "source": [
    "<img src=\"img/exercise6/spock.png\" width=\"300\"/>"
   ]
  },
  {
   "cell_type": "markdown",
   "metadata": {},
   "source": [
    "Abbildung 2: Visualisierung für die Schnick Schnack Schnuck Variante Schere-Stein-Papier-Echse-Spock\", siehe\n",
    "http://www.samkass.com/theories/RPSSL.html"
   ]
  },
  {
   "cell_type": "markdown",
   "metadata": {},
   "source": [
    "*Task 6.1.1:* Definieren sie den Sample Space und den Event Space für die Originalversion und die Big Bang Theory Version.\n",
    "Schreiben Sie dazu kommentierten Python-Code.<br>\n",
    "<br>\n",
    "*Define the sample space and the event space for the original version and the Big Bang Theory version. Write annotated Python code.*"
   ]
  },
  {
   "cell_type": "markdown",
   "metadata": {},
   "source": [
    "Task 6.1.2: Schreiben Sie kommentierten Python-Code, der die Wahrscheinlichkeit für ein Unentschieden in dieser Variante und in der Originalversion berechnet. <br>\n",
    "*Write annotated Python code that calculates the probability of a draw in this variant and in the original version.*"
   ]
  },
  {
   "cell_type": "markdown",
   "metadata": {},
   "source": [
    "<div class=\"task_description\">\n",
    "    <i class=\"task\">Homework 6.2:</i>\n",
    "        ::: 3 Hausaufgabenpunkte :::</div>\n",
    "        \n",
    "Eine Analysesoftware erkennt in Videoaufnahmen die Gesichter von gesuchten Personen mit einer Wahrscheinlichkeit von 93%. Allerdings markiert die Software in 1% aller Fälle eine unverdächtige Person irrtümlich als gesucht. Die Sicherheitsbehörden erwarten, dass am Donnerstag 10 gesuchte Personen am Flughafen ankommen werden. Das Personenaufkommen pro Tag liegt bei 10.000 Fluggästen.<br>\n",
    "Sie können annehmen, dass alle anderen Personen, die an diesem Tag ankommen unverdächtig sind. Schreiben Sie kommentierten Python-Code, der die folgenden Wahrscheinlichkeiten berechnet:<br><br>\n",
    "*An analysis software recognizes the faces of wanted persons in video footage with a probability of 93%. However, in 1% of cases, the software erroneously marks an unsuspecting person as being wanted. Security authorities expect that 10 wanted people will arrive at the airport on Thursday. The number of passengers per day is 10,000. <br>\n",
    "You can assume that all other people who arrive that day are unsuspicious. Write annotated Python code that calculates the following probabilities:*"
   ]
  },
  {
   "cell_type": "markdown",
   "metadata": {},
   "source": [
    "*Task 6.2.1*: Wie viele Personen wird die Software wahrscheinlich fälschlicherweise als “gesucht” markieren?  <br>\n",
    "*How many people will likely be mistaken as \"wanted\" by the software?*"
   ]
  },
  {
   "cell_type": "markdown",
   "metadata": {},
   "source": [
    "*Task 6.2.2*: Die Software schlägt Alarm. Wie groß ist die Wahrscheinlichkeit dafür, dass tatsächlich eine gesuchte Person entdeckt wurde? <br>\n",
    "*The software raises an alarm. What is the probability that a wanted person was actually discovered?*"
   ]
  },
  {
   "cell_type": "markdown",
   "metadata": {},
   "source": [
    "<div class=\"task_description\">\n",
    "    <i class=\"task\">Homework 6.3:</i>\n",
    "        ::: 5 Hausaufgabenpunkte :::</div>\n",
    "        \n",
    "Anna zieht 3 Karten von einem gemischten Skatspiel (7 bis Ass, 4 Farben: Herz, Karo, Kreuz, Pik, 32 Karten). Schreiben Sie kommentierten Python-Code, der die folgenden Wahrscheinlichkeiten berechnet: <br>\n",
    "*Anna draws 3 cards from a mixed skat game (7 to ace, 4 colors: hearts, diamonds, clubs, spades, 32 cards). Write annotated Python code that calculates the following probabilities:*"
   ]
  },
  {
   "cell_type": "markdown",
   "metadata": {},
   "source": [
    "*Task 6.3.1*: Mit welcher Wahrscheinlichkeit hat Anna drei Karten mit gleicher Farbe (z.B. Herz 7/Herz Bube/Herz As)? <br>\n",
    "*What is the probability that Anna has three cards of the same color (for example, Heart 7 / Heart Jack / Heart As)?*"
   ]
  },
  {
   "cell_type": "markdown",
   "metadata": {},
   "source": [
    "Task 6.3.2:  Mit welcher Wahrscheinlichkeit hat Anna drei Karten mit dem gleichen Wert? <br>\n",
    "*What is the probability that Anna has three cards of equal value (for example, Heart Jack / Pik Jack / Cross Jack)?*"
   ]
  },
  {
   "cell_type": "code",
   "execution_count": null,
   "metadata": {},
   "outputs": [],
   "source": []
  }
 ],
 "metadata": {
  "kernelspec": {
   "display_name": "Python 3",
   "language": "python",
   "name": "python3"
  },
  "language_info": {
   "codemirror_mode": {
    "name": "ipython",
    "version": 3
   },
   "file_extension": ".py",
   "mimetype": "text/x-python",
   "name": "python",
   "nbconvert_exporter": "python",
   "pygments_lexer": "ipython3",
   "version": "3.5.2"
  },
  "varInspector": {
   "cols": {
    "lenName": 16,
    "lenType": 16,
    "lenVar": 40
   },
   "kernels_config": {
    "python": {
     "delete_cmd_postfix": "",
     "delete_cmd_prefix": "del ",
     "library": "var_list.py",
     "varRefreshCmd": "print(var_dic_list())"
    },
    "r": {
     "delete_cmd_postfix": ") ",
     "delete_cmd_prefix": "rm(",
     "library": "var_list.r",
     "varRefreshCmd": "cat(var_dic_list()) "
    }
   },
   "types_to_exclude": [
    "module",
    "function",
    "builtin_function_or_method",
    "instance",
    "_Feature"
   ],
   "window_display": false
  }
 },
 "nbformat": 4,
 "nbformat_minor": 2
}

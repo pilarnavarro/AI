{
 "cells": [
  {
   "cell_type": "markdown",
   "metadata": {},
   "source": [
    "##### Pilar Navarro Ramírez    "
   ]
  },
  {
   "cell_type": "markdown",
   "metadata": {},
   "source": [
    "Matrikel-Nr.3086150"
   ]
  },
  {
   "cell_type": "markdown",
   "metadata": {},
   "source": [
    "#### Inmaculada Marín Carballo"
   ]
  },
  {
   "cell_type": "markdown",
   "metadata": {},
   "source": [
    "Matrikel-Nr.3086148"
   ]
  },
  {
   "cell_type": "markdown",
   "metadata": {},
   "source": [
    "## Hausübung"
   ]
  },
  {
   "cell_type": "markdown",
   "metadata": {},
   "source": [
    "<div class=\"task_description\">\n",
    "    <i class=\"task\">Homework 3.1:</i>\n",
    "    \n",
    "*A farmer wants to take a cabbage, his sheep and his dog across the Ruhr from Duisburg to Mülheim by boat.*\n",
    "* *The boat on the shore, however, can accommodate only one animal or the cabbage besides the farmer.*\n",
    "* *Only the farmer can operate the boat and the dog can not be left alone with the sheep or the sheep with the cabbage alone on one side.*\n",
    "*Determine a sequence of boat tours with which the cabbage, the sheep, the farmer, and his dog arrive on the other side of the river without violating the above conditions. Formulate the problem as a search. Specify the representation of the states, the initial state, the target state, the possible actions as well as the the successor function.<br>\n",
    "Give a brief explanation as to why you are certain / not certain that the path found has the minimum number of river crossings required. Draw the state graph.*"
   ]
  },
  {
   "cell_type": "markdown",
   "metadata": {},
   "source": [
    "**Formulation of the problem:**\n",
    "\n",
    "I will use the following abbreviations:\n",
    "\n",
    "C-cabbage, S-sheep, D-dog, F-farmer\n",
    "\n",
    "* The __states__ are the locations of the elements (cabagge,sheep,dog and farmer) in each side of the Ruhr at every time. I will represent the states as a pair of lists, where the first list stands for the elements that are located in the Duisburg side and the second list stands for the elements in the Mülheim side. For example [C,0,D,0]-[0,S,0,F] means that the cabagge and the dog are in Duisburg, while the sheep and the farmer are in Mülheim.\n",
    "* The __initial state__ is the location of all the elements in the side of Duisburg ([C,S,D,F]-[0,0,0,0]) and the __target state__ the location of all them in the side of Mülheim ([0,0,0,0]-[C,S,D,F])\n",
    "* The __actions__ are the boat tours from one side of the river to the other. The possible actions are: \n",
    " \n",
    "    1. The farmer takes the cabagge with him in the boat to the other side (c)\n",
    "    \n",
    "    2. The farmer takes the sheep with him in the boat to the other side (s)\n",
    "\n",
    "    3. The farmer takes the dog with him in the boat to the other side (d)\n",
    "\n",
    "    4. The farmer goes alone in the boat to the other side (0)\n",
    "    \n",
    "    \n",
    "* The __sucessor function__ gives the following state after applying it to a pair (state,action). That is, given a location of the elements and an action of taking one or none of the elements in the boat, the sucessor function returns the new location of the elements.\n",
    "\n",
    "**State graph:**\n",
    "\n",
    " ![image](./image-ex4.jpg) \n",
    "\n",
    "**Solution:**\n",
    "\n",
    "Two optimal solutions are:\n",
    "\n",
    "* The farmer takes first of all the sheep from Duisburg to Mülheim. Then, he/she goes back to Duisburg alone and takes the dog to Mülheim. Once in Mülheim the farmer leaves the dog and takes the sheep back to Duisburg. After that the farmer leaves the sheep in Duisburg again and transports the cabagge to Mülheim. He/she returns again without anything and finally he/she takes the sheep from Duisburg again back to Mülheim. Now they are all together in Mülheim, as he/she wanted. The sequence of actions will be: s-0-d-s-c-0-s, with a length of 7.\n",
    "\n",
    "\n",
    "* The farmer takes first of all the sheep from Duisburg to Mülheim. Then, he/she goes back to Duisburg alone and transports the cabagge to Mülheim. Once in Mülheim the farmer leaves the cabagge and takes the sheep back to Duisburg. After that the farmer leaves the sheep in Duisburg again and takes the dog to Mülheim. He/she returns again alone and finally he/she takes the sheep from Duisburg again back to Mülheim. Now they are all together in Mülheim, as the farmer wanted. The sequence of actions will be: s-0-c-s-d-0-s, with a length of 7.\n",
    "\n",
    "\n",
    "I am sure that the path found is the shortest one because I found the solutions going through the states in the graph without stopping in any loop (going back to an already visited state) until arriving to the goal state, and there is no other alternative path to arrive to the solution that doesn't go in a loop (no shorter path).\n",
    "\n"
   ]
  },
  {
   "cell_type": "markdown",
   "metadata": {},
   "source": [
    "<div class=\"task_description\">\n",
    "    <i class=\"task\">Homework 3.2:</i>\n",
    "       \n",
    "\n",
    "*Below you can see a section of the Duisburg subway network. Formalize the network as a search tree with Duisburg Hbf as the initial state. Consider the following simplifications:* <br>\n",
    "\n",
    "* *Parallel lines are interpreted as a simple connection.*\n",
    "* *The distance between two adjacent stations is always the same.*\n",
    "\n",
    "*Implement the search problem as a tree with nodes. Use the code above.*"
   ]
  },
  {
   "cell_type": "code",
   "execution_count": 10,
   "metadata": {},
   "outputs": [
    {
     "name": "stdout",
     "output_type": "stream",
     "text": [
      "Duissern U-Bf. : ['Duisburg Hbf.']\n",
      "Duisburg Hbf. : ['König-Heinrich-Pl.', 'Duissern U-Bf.', 'Lutherpl.']\n",
      "Rathaus : ['König-Heinrich-Pl.', 'Scharnhorststraße']\n",
      "Mülheim,Monning : ['Zoo/Uni']\n",
      "Kaßlerfelder Straße : ['Scharnhorststraße']\n",
      "Lutherpl. : ['Duisburg Hbf.', 'Schweizer Straße']\n",
      "Zoo/Uni : ['Schweizer Straße', 'Mülheim,Monning']\n",
      "Steinsche Gasse : ['König-Heinrich-Pl.']\n",
      "König-Heinrich-Pl. : ['Duisburg Hbf.', 'Rathaus', 'Steinsche Gasse']\n",
      "Schweizer Straße : ['Lutherpl.', 'Zoo/Uni']\n",
      "Scharnhorststraße : ['Rathaus', 'Kaßlerfelder Straße']\n"
     ]
    }
   ],
   "source": [
    "graph = {\n",
    "    \"Duisburg Hbf.\": [\"König-Heinrich-Pl.\",\"Duissern U-Bf.\",\"Lutherpl.\"],\n",
    "    \"König-Heinrich-Pl.\": [\"Duisburg Hbf.\",\"Rathaus\",\"Steinsche Gasse\"],\n",
    "    \"Duissern U-Bf.\": [\"Duisburg Hbf.\"],\n",
    "    \"Lutherpl.\": [\"Duisburg Hbf.\",\"Schweizer Straße\"],\n",
    "    \"Rathaus\": [\"König-Heinrich-Pl.\",\"Scharnhorststraße\"],\n",
    "    \"Steinsche Gasse\": [\"König-Heinrich-Pl.\"], \n",
    "    \"Schweizer Straße\": [\"Lutherpl.\",\"Zoo/Uni\"],\n",
    "    \"Scharnhorststraße\" : [\"Rathaus\",\"Kaßlerfelder Straße\"],\n",
    "    \"Zoo/Uni\": [\"Schweizer Straße\",\"Mülheim,Monning\"], \n",
    "    \"Kaßlerfelder Straße\" : [\"Scharnhorststraße\"],\n",
    "    \"Mülheim,Monning\": [\"Zoo/Uni\"]\n",
    "} \n",
    "\n",
    "root=\"Duisburg Hbf.\"\n",
    "\n",
    "for place in graph:\n",
    "    print (place, \":\", graph[place])"
   ]
  },
  {
   "cell_type": "markdown",
   "metadata": {},
   "source": [
    "To implement the search tree I used a python dictionary (like in the example exercise). Each key in the dictionary represents one node of the tree and the corresponding values are the successor nodes. The root node is the key \"Duisburg Hbf.\", and from here the tree starts to develop following the successor nodes. \n",
    "\n",
    "I consider that the places that have no lines connection in the map (like \"Duissern U-Bf.\" and \"Lutherpl.\", for example), are also not directly connected in the tree."
   ]
  },
  {
   "cell_type": "markdown",
   "metadata": {},
   "source": [
    "<div class=\"task_description\">\n",
    "    <i class=\"task\">Homework 3.3:</i>\n",
    "    \n",
    "    \n",
    "*You want to find out which subway stations you have to pass when travelling from the main station to the zoo.*\n",
    "* *Perform a Breadth-first search and specify the contents of the queue for each iteration.*\n",
    "* *Perform a Depth-first search and specify the contents of the stack for each iteration.\n",
    "*If you do not succeed in implementing the problem, you can also manually calculate the stack and queue. In this case, comment on each step.*"
   ]
  },
  {
   "cell_type": "code",
   "execution_count": 24,
   "metadata": {},
   "outputs": [
    {
     "name": "stdout",
     "output_type": "stream",
     "text": [
      "BFS\n",
      "Queue:  deque(['Duisburg Hbf.'])\n",
      "Expand:  Duisburg Hbf.\n",
      "Queue:  deque(['König-Heinrich-Pl.', 'Duissern U-Bf.', 'Lutherpl.'])\n",
      "Expand:  König-Heinrich-Pl.\n",
      "Queue:  deque(['Duissern U-Bf.', 'Lutherpl.', 'Rathaus', 'Steinsche Gasse'])\n",
      "Expand:  Duissern U-Bf.\n",
      "Queue:  deque(['Lutherpl.', 'Rathaus', 'Steinsche Gasse'])\n",
      "Expand:  Lutherpl.\n",
      "Queue:  deque(['Rathaus', 'Steinsche Gasse', 'Schweizer Straße'])\n",
      "Expand:  Rathaus\n",
      "Queue:  deque(['Steinsche Gasse', 'Schweizer Straße', 'Scharnhorststraße'])\n",
      "Expand:  Steinsche Gasse\n",
      "Queue:  deque(['Schweizer Straße', 'Scharnhorststraße'])\n",
      "Expand:  Schweizer Straße\n",
      "Queue:  deque(['Scharnhorststraße', 'Zoo/Uni'])\n",
      "Expand:  Scharnhorststraße\n",
      "Queue:  deque(['Zoo/Uni', 'Kaßlerfelder Straße'])\n",
      "Goal state achieved: Zoo/Uni\n",
      "\n",
      "DFS\n",
      "Stack:  ['Duisburg Hbf.']\n",
      "Expand:  Duisburg Hbf.\n",
      "Stack:  ['König-Heinrich-Pl.', 'Duissern U-Bf.', 'Lutherpl.']\n",
      "Expand:  Lutherpl.\n",
      "Stack:  ['König-Heinrich-Pl.', 'Duissern U-Bf.', 'Schweizer Straße']\n",
      "Expand:  Schweizer Straße\n",
      "Stack:  ['König-Heinrich-Pl.', 'Duissern U-Bf.', 'Zoo/Uni']\n",
      "Goal state achieved: Zoo/Uni\n"
     ]
    }
   ],
   "source": [
    "import collections\n",
    "\n",
    "def bfs(graph, root, goal):\n",
    "    seen = set([root])\n",
    "    queue = collections.deque([root])\n",
    "    while queue:\n",
    "        print(\"Queue: \", queue)\n",
    "        vertex = queue.popleft()\n",
    "        if vertex == goal:\n",
    "            print(\"Goal state achieved:\", vertex)\n",
    "            break;        \n",
    "        print(\"Expand: \", vertex)\n",
    "        for node in graph[vertex]:\n",
    "            if node not in seen:\n",
    "                seen.add(node)\n",
    "                queue.append(node)\n",
    "\n",
    "def dfs(graph, root, goal):\n",
    "    seen = set([root])\n",
    "    stack = [root]\n",
    "    while stack:\n",
    "        print(\"Stack: \", stack)\n",
    "        vertex = stack.pop()\n",
    "        if vertex == goal:\n",
    "            print(\"Goal state achieved:\", vertex)\n",
    "            break;\n",
    "        print(\"Expand: \", vertex)\n",
    "        for node in graph[vertex]:\n",
    "            if node not in seen:\n",
    "                seen.add(node)\n",
    "                stack.append(node)\n",
    "\n",
    "goal=\"Zoo/Uni\"\n",
    "                \n",
    "print(\"BFS\")\n",
    "bfs(graph, root,goal)\n",
    "print()\n",
    "print(\"DFS\")\n",
    "dfs(graph, root,goal)"
   ]
  }
 ],
 "metadata": {
  "kernelspec": {
   "display_name": "Python 3",
   "language": "python",
   "name": "python3"
  },
  "language_info": {
   "codemirror_mode": {
    "name": "ipython",
    "version": 3
   },
   "file_extension": ".py",
   "mimetype": "text/x-python",
   "name": "python",
   "nbconvert_exporter": "python",
   "pygments_lexer": "ipython3",
   "version": "3.5.2"
  }
 },
 "nbformat": 4,
 "nbformat_minor": 2
}
